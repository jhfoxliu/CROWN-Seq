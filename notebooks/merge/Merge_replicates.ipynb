{
 "cells": [
  {
   "cell_type": "markdown",
   "id": "f6c722c1",
   "metadata": {},
   "source": [
    "## Merge *de novo* TSS calls\n",
    "\n",
    "Jianheng Liu (Fox) @ Jaffrey Lab, May 31st, 2023\n",
    "\n",
    "Concat: jil4026@med.cornell.edu"
   ]
  },
  {
   "cell_type": "markdown",
   "id": "ceb6c8ac",
   "metadata": {},
   "source": [
    "This notebook is about how to merge the site list for *denovo* calls. \n",
    "\n",
    "If you just have one sample, just make a site list consisting of the the \n",
    "\n",
    "`chromosome id \\t 1-based position \\t strand `\n",
    "\n",
    "for downstream analysis."
   ]
  },
  {
   "cell_type": "markdown",
   "id": "bb8e0add",
   "metadata": {},
   "source": [
    "### 1. Prepare a SampleSheet\n",
    "\n",
    "Here, you need to provide two columns: \n",
    "\n",
    "* Column-1 : The name of the merged samples\n",
    "* Column-2 : The `prefix` of the files. Fox example, you should have the following two files `HEK_WT`.called.ben.passed.bed and `HEK_WT`.called.ben.filtered_out.bed"
   ]
  },
  {
   "cell_type": "code",
   "execution_count": 1,
   "id": "c9d4b6c7",
   "metadata": {},
   "outputs": [
    {
     "name": "stdout",
     "output_type": "stream",
     "text": [
      "HEK\tHEK_WT\r\n",
      "A549\tA549_WT\r\n"
     ]
    }
   ],
   "source": [
    "!cat SampleSheet"
   ]
  },
  {
   "cell_type": "markdown",
   "id": "32cd1c30",
   "metadata": {},
   "source": [
    "### 2. Fetch all sites into a single csv file\n",
    "\n",
    "If --no-ambiguous is set, no annotations start with a \"*\" will be used.\n",
    "\n",
    "Note: there are some containment in the KO data. The artifacts "
   ]
  },
  {
   "cell_type": "code",
   "execution_count": 2,
   "id": "3aaeaeb8",
   "metadata": {},
   "outputs": [
    {
     "name": "stdout",
     "output_type": "stream",
     "text": [
      "Date: 2023-05-31 16:25:19\n",
      "Number of sites analyzing: 15265\n",
      "Mode: ambiguous gene annotations not allowed? True\n",
      "Running: HEK_WT\n",
      "Sites passed filters: 7241\n",
      "Sites failed to pass filters w/ signals: 384\n",
      "====================\n",
      "Running: A549_WT\n",
      "Sites passed filters: 9079\n",
      "Sites failed to pass filters w/ signals: 483\n",
      "====================\n"
     ]
    }
   ],
   "source": [
    "!python Merge_TSS_1_fetch_sites.py -s SampleSheet -o TSS.csv --no-ambiguous"
   ]
  },
  {
   "cell_type": "markdown",
   "id": "c6cea138",
   "metadata": {},
   "source": [
    "### 3. Filter TSS"
   ]
  },
  {
   "cell_type": "code",
   "execution_count": 3,
   "id": "f811a4ce",
   "metadata": {},
   "outputs": [
    {
     "name": "stdout",
     "output_type": "stream",
     "text": [
      "Date: 2023-05-31 16:25:23\n",
      "Finished at: 2023-05-31 16:25:23\n"
     ]
    }
   ],
   "source": [
    "!python Merge_TSS_2_filter_sites.py -i TSS.csv -s SampleSheet -o TSS.filtered.csv --no-ambiguous"
   ]
  },
  {
   "cell_type": "markdown",
   "id": "cb9d780f",
   "metadata": {},
   "source": [
    "### 4. Merge replicates\n",
    "\n",
    "(No replicate here, but the script still works.)"
   ]
  },
  {
   "cell_type": "code",
   "execution_count": 4,
   "id": "8b5ac51e",
   "metadata": {},
   "outputs": [
    {
     "name": "stdout",
     "output_type": "stream",
     "text": [
      "Date: 2023-05-31 16:25:24\n",
      "/home/fox/Projects/CROWN-Seq_example/merge/Mrege_TSS_3_merge_replicates.py:61: SettingWithCopyWarning: \n",
      "A value is trying to be set on a copy of a slice from a DataFrame.\n",
      "Try using .loc[row_indexer,col_indexer] = value instead\n",
      "\n",
      "See the caveats in the documentation: https://pandas.pydata.org/pandas-docs/stable/user_guide/indexing.html#returning-a-view-versus-a-copy\n",
      "  count_sample[\"Gene\"] = count_sample.index.get_level_values(3)\n",
      "/home/fox/Projects/CROWN-Seq_example/merge/Mrege_TSS_3_merge_replicates.py:75: SettingWithCopyWarning: \n",
      "A value is trying to be set on a copy of a slice from a DataFrame.\n",
      "Try using .loc[row_indexer,col_indexer] = value instead\n",
      "\n",
      "See the caveats in the documentation: https://pandas.pydata.org/pandas-docs/stable/user_guide/indexing.html#returning-a-view-versus-a-copy\n",
      "  xs_df_out[\"Base\"] = xs_df_out.index.get_level_values(4)\n"
     ]
    }
   ],
   "source": [
    "!python Mrege_TSS_3_merge_replicates.py -i TSS.filtered.csv -s SampleSheet -o TSS.merged"
   ]
  },
  {
   "cell_type": "markdown",
   "id": "57902490",
   "metadata": {},
   "source": [
    "You may have outputs like\n",
    "\n",
    "* TSS.merged.merged.csv - The main table\n",
    "* TSS.merged.xs_frac.csv - The table about the fraction of the TSS usage within a gene\n",
    "* TSS.merged.xs_tpm.csv - TPM of the sitess\n",
    "* TSS.merged.xs_count.csv - Number of the reads \n",
    "* TSS.merged.stats.csv - Number of A/C/G/U reads"
   ]
  },
  {
   "cell_type": "markdown",
   "id": "7a226607",
   "metadata": {},
   "source": [
    "### 5. Extract the site list"
   ]
  },
  {
   "cell_type": "code",
   "execution_count": 5,
   "id": "f1405ef1",
   "metadata": {},
   "outputs": [],
   "source": [
    "!sed '1d' TSS.merged.xs_count.csv | sed 's/,/\\t/g' | awk '$5==\"A\"' | cut -f 1,3,6 | sort -u > CROWN_sites.txt"
   ]
  },
  {
   "cell_type": "code",
   "execution_count": 6,
   "id": "9f4a03e4",
   "metadata": {},
   "outputs": [
    {
     "name": "stdout",
     "output_type": "stream",
     "text": [
      "10\t100225993\t-\r\n",
      "10\t100229624\t-\r\n",
      "10\t100347247\t+\r\n",
      "10\t100373843\t+\r\n",
      "10\t100376883\t+\r\n",
      "10\t100529806\t-\r\n",
      "10\t101040893\t+\r\n",
      "10\t101229529\t+\r\n",
      "10\t101588291\t+\r\n",
      "10\t101783395\t-\r\n"
     ]
    }
   ],
   "source": [
    "!head CROWN_sites.txt"
   ]
  },
  {
   "cell_type": "code",
   "execution_count": 7,
   "id": "a94e3718",
   "metadata": {},
   "outputs": [
    {
     "name": "stdout",
     "output_type": "stream",
     "text": [
      "5843 CROWN_sites.txt\r\n"
     ]
    }
   ],
   "source": [
    "!wc -l CROWN_sites.txt"
   ]
  },
  {
   "cell_type": "markdown",
   "id": "40cdaf3c",
   "metadata": {},
   "source": [
    "### Now you are ready to measure m6Am "
   ]
  }
 ],
 "metadata": {
  "kernelspec": {
   "display_name": "Python 3 (ipykernel)",
   "language": "python",
   "name": "python3"
  },
  "language_info": {
   "codemirror_mode": {
    "name": "ipython",
    "version": 3
   },
   "file_extension": ".py",
   "mimetype": "text/x-python",
   "name": "python",
   "nbconvert_exporter": "python",
   "pygments_lexer": "ipython3",
   "version": "3.9.14"
  }
 },
 "nbformat": 4,
 "nbformat_minor": 5
}
