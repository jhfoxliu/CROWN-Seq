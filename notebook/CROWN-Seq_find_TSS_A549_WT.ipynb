{
 "cells": [
  {
   "attachments": {},
   "cell_type": "markdown",
   "metadata": {},
   "source": [
    "## *De novo* TSS finding by CROWN-Seq and ReCappable-Seq\n",
    "\n",
    "Jianheng Liu (Fox) @ Jaffrey Lab, May 31st, 2023\n",
    "\n",
    "Concat: jil4026@med.cornell.edu"
   ]
  },
  {
   "attachments": {},
   "cell_type": "markdown",
   "metadata": {},
   "source": [
    "**Usage:** Modify `Prepartion` section to fit your computer. Modify `Variable` section before each run.All outputs will be saved in the `workpath`. Logs will be saved in the notebook. Don't close the `Notebook` before it finished (keep the backend at least)!\n",
    "\n",
    "**Note 1:** In Jupyter notebook, `!` means using `bash` in the cell, and `$` means using python variables.\n",
    "\n",
    "**Note 2:** This panel notebook should be compatible with `Python 3`. But please use `Python 2` to run the analytic scripts.\n",
    "\n",
    "**Note 3:** I used Gencode v34 in the article for compatiblity. Here I use Ensembl release 104 for illustration. Newer annotations are normally better.\n",
    "\n",
    "**Note 4:** This notebook is for paired-end reads. If you are using single-end, switch to the scripts end with `_SE.py`. And don't forget to change the parameters."
   ]
  },
  {
   "cell_type": "code",
   "execution_count": 1,
   "metadata": {},
   "outputs": [
    {
     "name": "stdout",
     "output_type": "stream",
     "text": [
      "Started: 05/31/23 16:12:50\n",
      "/home/fox/Projects/CROWN-Seq_example\n"
     ]
    }
   ],
   "source": [
    "# local time\n",
    "from datetime import datetime\n",
    "now = datetime.now()\n",
    "current_time = now.strftime(\"%D %H:%M:%S\")\n",
    "print(\"Started:\", current_time)\n",
    "\n",
    "# Show notebook directory\n",
    "!pwd -P"
   ]
  },
  {
   "attachments": {},
   "cell_type": "markdown",
   "metadata": {},
   "source": [
    "### 0. Variable here"
   ]
  },
  {
   "cell_type": "code",
   "execution_count": 2,
   "metadata": {},
   "outputs": [],
   "source": [
    "name = \"A549_WT\" # file name prefix\n",
    "folder = \"A549_run/\"\n",
    "path = \"./\" # output path: workpath=path/folder\n",
    "workpath = path + \"/\" + folder + \"/\"\n",
    "read1 = \"A549_rep1_example.R1.fastq.gz\" # fastq or fastq.gz\n",
    "read2 = \"A549_rep1_example.R2.fastq.gz\""
   ]
  },
  {
   "attachments": {},
   "cell_type": "markdown",
   "metadata": {},
   "source": [
    "### 1. Preparation"
   ]
  },
  {
   "cell_type": "code",
   "execution_count": 3,
   "metadata": {},
   "outputs": [],
   "source": [
    "ref_genome_index = \"/home/fox/Database/GLORI_index/GRCh38_r104/hisat2_index/\"\n",
    "ref_genome = \"/home/fox/Database/GLORI_index/GRCh38_r104/hisat2_index/Homo_sapiens.GRCh38.dna_sm.primary_assembly.fa\"\n",
    "tx_db_exons = \"/home/fox/Database/Genome/Ensembl/GRCh38_r104/Homo_sapiens.GRCh38.104.noheader.tx.bed\"\n",
    "tx_db_tss = \"/home/fox/Database/Genome/Ensembl/GRCh38_r104/Homo_sapiens.GRCh38.104.noheader.anno.tss\"\n",
    "faidx = \"/home/fox/Database/GLORI_index/GRCh38_r104/hisat2_index/Homo_sapiens.GRCh38.dna_sm.primary_assembly.fa.fai\"\n",
    "annot = \"/home/fox/Database/Genome/Ensembl/GRCh38_r104/Homo_sapiens.GRCh38.104.noheader.anno\""
   ]
  },
  {
   "attachments": {},
   "cell_type": "markdown",
   "metadata": {},
   "source": [
    "**Software** (For python, use the fixed version)"
   ]
  },
  {
   "cell_type": "code",
   "execution_count": 4,
   "metadata": {},
   "outputs": [],
   "source": [
    "python = '/home/fox/Software/bin/python'\n",
    "bowtie2 = '/home/fox/Software/bin/python2'\n",
    "samtools = '/home/fox/Software/samtools/1.16/bin/samtools'\n",
    "cutadapt = '/home/fox/Software/bin/cutadapt'\n",
    "hisat2_path = '/home/fox/Software/hisat2/2.1.0/'\n",
    "umitools = '/home/fox/Software/bin/umi_tools'\n",
    "bedtools = '/home/fox/Software/bedtools/2.29.1/bedtools'"
   ]
  },
  {
   "attachments": {},
   "cell_type": "markdown",
   "metadata": {},
   "source": [
    "**Scripts**"
   ]
  },
  {
   "cell_type": "code",
   "execution_count": 5,
   "metadata": {},
   "outputs": [],
   "source": [
    "hisat2_script = \"../A2G_hisat2.py\"\n",
    "bam2bed_script  = \"../Align_to_cap_starts_PE.py\"\n",
    "annot_script_1 = \"../collaspe_bed_annotations_v2.py\"\n",
    "annot_script_2 = \"../collaspe_bed_annotations_fix_other_exons.py\"\n",
    "bed_annotate_base = \"../genome_flanking_v3_bed_annot.py\"\n",
    "bed_annotate_tpm = \"../get_tpm.py\"\n",
    "tss_filters = \"../ReCappabble-seq_caller_ben_version_v2.py\""
   ]
  },
  {
   "attachments": {},
   "cell_type": "markdown",
   "metadata": {},
   "source": [
    "**Create the workpath if not exist, then move to the workpath**"
   ]
  },
  {
   "cell_type": "code",
   "execution_count": 6,
   "metadata": {},
   "outputs": [],
   "source": [
    "import os\n",
    "if os.path.isdir(workpath) == False:\n",
    "    os.mkdir(workpath)\n",
    "os.chdir(workpath)"
   ]
  },
  {
   "attachments": {},
   "cell_type": "markdown",
   "metadata": {},
   "source": [
    "### 2. QC"
   ]
  },
  {
   "cell_type": "code",
   "execution_count": 7,
   "metadata": {},
   "outputs": [
    {
     "name": "stdout",
     "output_type": "stream",
     "text": [
      "This is cutadapt 4.1 with Python 3.9.14\n",
      "Command line parameters: -m 32 -j 4 -q 20 -e 0.25 -a AGATCGGAAGAGCACACGTC -A ATATNNNNNNNNAGATCGGAAGAGCGTCGTG -o read1.cutadapt.fastq -p read2.cutadapt.fastq ../A549_rep1_example.R1.fastq.gz ../A549_rep1_example.R2.fastq.gz\n",
      "Processing paired-end reads on 4 cores ...\n",
      "Done           00:00:08     1,000,000 reads @   8.6 µs/read;   6.99 M reads/minute\n",
      "Finished in 8.58 s (9 µs/read; 6.99 M reads/minute).\n",
      "\n",
      "=== Summary ===\n",
      "\n",
      "Total read pairs processed:          1,000,000\n",
      "  Read 1 with adapter:                 959,182 (95.9%)\n",
      "  Read 2 with adapter:                 355,235 (35.5%)\n",
      "\n",
      "== Read fate breakdown ==\n",
      "Pairs that were too short:             726,001 (72.6%)\n",
      "Pairs written (passing filters):       273,999 (27.4%)\n",
      "\n",
      "Total basepairs processed:   202,000,000 bp\n",
      "  Read 1:   101,000,000 bp\n",
      "  Read 2:   101,000,000 bp\n",
      "Quality-trimmed:               1,311,002 bp (0.6%)\n",
      "  Read 1:       728,357 bp\n",
      "  Read 2:       582,645 bp\n",
      "Total written (filtered):     36,210,167 bp (17.9%)\n",
      "  Read 1:    19,428,679 bp\n",
      "  Read 2:    16,781,488 bp\n",
      "\n",
      "=== First read: Adapter 1 ===\n",
      "\n",
      "Sequence: AGATCGGAAGAGCACACGTC; Type: regular 3'; Length: 20; Trimmed: 959182 times\n",
      "\n",
      "Minimum overlap: 3\n",
      "No. of allowed errors:\n",
      "1-3 bp: 0; 4-7 bp: 1; 8-11 bp: 2; 12-15 bp: 3; 16-19 bp: 4; 20 bp: 5\n",
      "\n",
      "Bases preceding removed adapters:\n",
      "  A: 8.4%\n",
      "  C: 26.2%\n",
      "  G: 19.4%\n",
      "  T: 13.0%\n",
      "  none/other: 33.1%\n",
      "\n",
      "Overview of removed sequences\n",
      "length\tcount\texpect\tmax.err\terror counts\n",
      "3\t1989\t15625.0\t0\t1926 63\n",
      "4\t2624\t3906.2\t1\t2189 435\n",
      "5\t2910\t976.6\t1\t2701 209\n",
      "6\t2126\t244.1\t1\t1966 147 13\n",
      "7\t2161\t61.0\t1\t1938 208 15\n",
      "8\t2139\t15.3\t2\t1928 134 77\n",
      "9\t3066\t3.8\t2\t2467 402 197\n",
      "10\t1711\t1.0\t2\t1633 54 24\n",
      "11\t2665\t0.2\t2\t2223 281 159 2\n",
      "12\t2125\t0.1\t3\t1958 117 23 27\n",
      "13\t2465\t0.0\t3\t2135 201 62 67\n",
      "14\t2713\t0.0\t3\t2257 275 102 73 6\n",
      "15\t3083\t0.0\t3\t2615 236 108 55 69\n",
      "16\t3021\t0.0\t4\t2355 332 168 100 66\n",
      "17\t3803\t0.0\t4\t3008 424 204 102 65\n",
      "18\t2555\t0.0\t4\t2343 116 40 27 29\n",
      "19\t2471\t0.0\t4\t2222 155 50 24 18 2\n",
      "20\t3189\t0.0\t5\t2766 233 100 40 28 22\n",
      "21\t3258\t0.0\t5\t2986 171 63 18 7 13\n",
      "22\t3038\t0.0\t5\t2756 181 51 26 10 14\n",
      "23\t3376\t0.0\t5\t2988 215 81 45 28 19\n",
      "24\t5066\t0.0\t5\t3859 524 286 214 110 73\n",
      "25\t4025\t0.0\t5\t3578 235 112 47 24 29\n",
      "26\t3392\t0.0\t5\t3095 136 48 40 44 29\n",
      "27\t4007\t0.0\t5\t3645 238 45 25 32 22\n",
      "28\t4780\t0.0\t5\t4154 321 126 83 57 39\n",
      "29\t5480\t0.0\t5\t4537 458 208 135 85 57\n",
      "30\t4232\t0.0\t5\t4010 154 31 21 10 6\n",
      "31\t5007\t0.0\t5\t4488 306 106 56 28 23\n",
      "32\t4902\t0.0\t5\t4520 259 55 23 33 12\n",
      "33\t5671\t0.0\t5\t4855 377 182 100 92 65\n",
      "34\t5553\t0.0\t5\t4936 354 132 46 55 30\n",
      "35\t6960\t0.0\t5\t5644 586 293 218 134 85\n",
      "36\t5246\t0.0\t5\t4827 197 57 58 52 55\n",
      "37\t6023\t0.0\t5\t5411 355 101 66 47 43\n",
      "38\t7488\t0.0\t5\t6087 655 315 204 132 95\n",
      "39\t5654\t0.0\t5\t5311 226 63 32 8 14\n",
      "40\t6504\t0.0\t5\t5420 506 214 179 101 84\n",
      "41\t7258\t0.0\t5\t6451 485 140 95 50 37\n",
      "42\t6541\t0.0\t5\t5979 382 83 49 33 15\n",
      "43\t7636\t0.0\t5\t6809 477 161 91 64 34\n",
      "44\t9084\t0.0\t5\t7610 849 302 177 84 62\n",
      "45\t12937\t0.0\t5\t12019 648 144 59 46 21\n",
      "46\t2015\t0.0\t5\t1765 153 47 28 10 12\n",
      "47\t5444\t0.0\t5\t5007 313 63 23 21 17\n",
      "48\t16413\t0.0\t5\t15234 815 194 95 53 22\n",
      "49\t6134\t0.0\t5\t5722 301 63 26 10 12\n",
      "50\t1795\t0.0\t5\t1585 136 29 27 10 8\n",
      "51\t10511\t0.0\t5\t9829 465 109 56 25 27\n",
      "52\t4197\t0.0\t5\t3854 223 59 28 16 17\n",
      "53\t2395\t0.0\t5\t2258 99 19 5 4 10\n",
      "54\t6760\t0.0\t5\t6407 271 36 25 8 13\n",
      "55\t10265\t0.0\t5\t9980 229 28 10 9 9\n",
      "56\t4293\t0.0\t5\t4102 152 19 8 4 8\n",
      "57\t2988\t0.0\t5\t2884 80 14 5 2 3\n",
      "58\t1978\t0.0\t5\t1872 78 10 7 2 9\n",
      "59\t6224\t0.0\t5\t6009 155 25 9 9 17\n",
      "60\t554\t0.0\t5\t498 29 7 5 6 9\n",
      "61\t1119\t0.0\t5\t1037 46 10 2 1 23\n",
      "62\t4835\t0.0\t5\t4656 114 11 10 9 35\n",
      "63\t1017\t0.0\t5\t951 36 5 1 4 20\n",
      "64\t640\t0.0\t5\t575 19 4 1 3 38\n",
      "65\t1906\t0.0\t5\t1754 82 14 11 13 32\n",
      "66\t3990\t0.0\t5\t3589 169 28 18 10 176\n",
      "67\t368\t0.0\t5\t291 25 9 7 9 27\n",
      "68\t1297\t0.0\t5\t1185 53 10 7 12 30\n",
      "69\t844\t0.0\t5\t729 33 7 4 18 53\n",
      "70\t460\t0.0\t5\t321 18 8 19 30 64\n",
      "71\t153\t0.0\t5\t56 8 2 7 10 70\n",
      "72\t1294\t0.0\t5\t1039 43 12 13 37 150\n",
      "73\t1835\t0.0\t5\t1373 65 22 117 151 107\n",
      "74\t2134\t0.0\t5\t1877 74 9 29 57 88\n",
      "75\t2233\t0.0\t5\t1993 85 8 16 39 92\n",
      "76\t2211\t0.0\t5\t1866 59 1 69 120 96\n",
      "77\t1726\t0.0\t5\t1463 61 9 28 72 93\n",
      "78\t1928\t0.0\t5\t1627 58 2 17 55 169\n",
      "79\t1722\t0.0\t5\t1049 39 4 115 287 228\n",
      "80\t3320\t0.0\t5\t769 19 27 895 1270 340\n",
      "81\t20584\t0.0\t5\t9844 236 75 2908 5214 2307\n",
      "82\t1135\t0.0\t5\t770 25 5 60 171 104\n",
      "83\t2149\t0.0\t5\t1237 28 4 60 630 190\n",
      "84\t770\t0.0\t5\t652 26 4 3 39 46\n",
      "85\t1192\t0.0\t5\t1100 21 4 1 41 25\n",
      "86\t892\t0.0\t5\t772 22 4 19 41 34\n",
      "87\t927\t0.0\t5\t783 20 5 27 33 59\n",
      "88\t1072\t0.0\t5\t967 28 2 9 18 48\n",
      "89\t1032\t0.0\t5\t957 22 2 6 11 34\n",
      "90\t197\t0.0\t5\t125 6 0 1 7 58\n",
      "91\t720\t0.0\t5\t508 15 1 6 124 66\n",
      "92\t332\t0.0\t5\t162 9 0 1 37 123\n",
      "93\t7145\t0.0\t5\t4932 174 3 6 882 1148\n",
      "94\t551\t0.0\t5\t458 69 6 0 6 12\n",
      "95\t23221\t0.0\t5\t22667 515 24 6 1 8\n",
      "96\t1491\t0.0\t5\t1425 54 6 0 6\n",
      "97\t3848\t0.0\t5\t3606 197 14 25 3 3\n",
      "98\t45355\t0.0\t5\t43775 1387 158 22 9 4\n",
      "99\t100449\t0.0\t5\t97291 2869 182 48 22 37\n",
      "100\t124408\t0.0\t5\t120890 3216 193 61 7 41\n",
      "101\t314780\t0.0\t5\t306804 7403 243 58 223 49\n",
      "\n",
      "\n",
      "=== Second read: Adapter 2 ===\n",
      "\n",
      "Sequence: ATATNNNNNNNNAGATCGGAAGAGCGTCGTG; Type: regular 3'; Length: 31; Trimmed: 355235 times\n",
      "\n",
      "Minimum overlap: 3\n",
      "No. of allowed errors:\n",
      "1-3 bp: 0; 4-7 bp: 1; 8-11 bp: 2; 12-15 bp: 3; 16-19 bp: 4; 20-23 bp: 5\n",
      "\n",
      "Bases preceding removed adapters:\n",
      "  A: 8.3%\n",
      "  C: 45.7%\n",
      "  G: 11.4%\n",
      "  T: 32.4%\n",
      "  none/other: 2.2%\n",
      "\n",
      "Overview of removed sequences\n",
      "length\tcount\texpect\tmax.err\terror counts\n",
      "3\t537\t15625.0\t0\t472 65\n",
      "4\t865\t3906.2\t1\t323 542\n",
      "5\t1282\t976.6\t1\t427 855\n",
      "6\t1240\t244.1\t1\t386 854\n",
      "7\t1491\t61.0\t1\t519 972\n",
      "8\t1452\t15.3\t2\t502 950\n",
      "9\t1758\t3.8\t2\t546 1212\n",
      "10\t1967\t1.0\t2\t488 1479\n",
      "11\t2618\t0.2\t2\t1193 1425\n",
      "12\t3774\t0.1\t3\t1370 2404\n",
      "13\t3252\t0.0\t3\t1432 1820\n",
      "14\t2024\t0.0\t3\t1616 401 7\n",
      "15\t2045\t0.0\t3\t1534 449 62\n",
      "16\t1877\t0.0\t4\t1525 175 177\n",
      "17\t2460\t0.0\t4\t2014 139 307\n",
      "18\t2509\t0.0\t4\t2236 162 102 9\n",
      "19\t2108\t0.0\t4\t1636 258 190 24\n",
      "20\t2241\t0.0\t5\t1881 170 102 88\n",
      "21\t2006\t0.0\t5\t1519 196 154 133 4\n",
      "22\t2055\t0.0\t5\t1781 165 60 45 4\n",
      "23\t2227\t0.0\t5\t1798 182 119 116 12\n",
      "24\t2364\t0.0\t5\t1987 192 81 63 41\n",
      "25\t2259\t0.0\t5\t1865 186 96 75 37\n",
      "26\t2739\t0.0\t5\t2262 258 115 65 39\n",
      "27\t2293\t0.0\t5\t2032 160 53 26 18 4\n",
      "28\t2368\t0.0\t5\t2018 207 63 31 27 22\n",
      "29\t3337\t0.0\t5\t2833 262 99 73 36 34\n",
      "30\t1900\t0.0\t5\t1632 132 38 33 32 33\n",
      "31\t3651\t0.0\t5\t2853 430 152 100 69 47\n",
      "32\t2315\t0.0\t5\t2000 185 45 32 28 25\n",
      "33\t2809\t0.0\t5\t2408 244 59 45 26 27\n",
      "34\t2956\t0.0\t5\t2457 295 99 32 31 42\n",
      "35\t3273\t0.0\t5\t2666 275 108 89 69 66\n",
      "36\t4596\t0.0\t5\t3463 503 237 141 118 134\n",
      "37\t3832\t0.0\t5\t3373 316 58 32 29 24\n",
      "38\t3441\t0.0\t5\t2787 352 112 50 74 66\n",
      "39\t4422\t0.0\t5\t3419 413 167 167 136 120\n",
      "40\t4438\t0.0\t5\t3825 410 91 50 32 30\n",
      "41\t4829\t0.0\t5\t4086 458 108 60 64 53\n",
      "42\t6135\t0.0\t5\t5243 549 168 92 52 31\n",
      "43\t8322\t0.0\t5\t7521 577 100 59 35 30\n",
      "44\t5749\t0.0\t5\t4752 562 173 111 83 68\n",
      "45\t5409\t0.0\t5\t4783 421 86 54 38 27\n",
      "46\t4976\t0.0\t5\t4326 421 94 49 46 40\n",
      "47\t5311\t0.0\t5\t4555 480 125 61 56 34\n",
      "48\t6335\t0.0\t5\t5031 671 223 176 141 93\n",
      "49\t6137\t0.0\t5\t5411 510 102 64 37 13\n",
      "50\t4799\t0.0\t5\t4252 378 80 29 29 31\n",
      "51\t5996\t0.0\t5\t5111 554 143 80 63 45\n",
      "52\t5675\t0.0\t5\t5011 457 90 63 32 22\n",
      "53\t6743\t0.0\t5\t5784 560 149 111 76 63\n",
      "54\t6622\t0.0\t5\t5370 582 228 174 153 115\n",
      "55\t7025\t0.0\t5\t6245 501 120 68 44 47\n",
      "56\t5895\t0.0\t5\t5019 495 136 108 65 72\n",
      "57\t6099\t0.0\t5\t5033 549 199 134 99 85\n",
      "58\t6451\t0.0\t5\t5411 579 208 117 83 53\n",
      "59\t5622\t0.0\t5\t4995 420 86 54 30 37\n",
      "60\t5729\t0.0\t5\t4907 471 160 84 57 50\n",
      "61\t5984\t0.0\t5\t5161 505 150 86 50 32\n",
      "62\t5195\t0.0\t5\t4648 345 82 44 46 30\n",
      "63\t4537\t0.0\t5\t4061 363 59 24 19 11\n",
      "64\t4503\t0.0\t5\t4033 310 63 39 38 20\n",
      "65\t4568\t0.0\t5\t4085 320 81 31 27 24\n",
      "66\t5029\t0.0\t5\t4296 387 156 84 55 51\n",
      "67\t4139\t0.0\t5\t3707 286 65 35 24 22\n",
      "68\t8181\t0.0\t5\t7437 510 107 70 26 31\n",
      "69\t5699\t0.0\t5\t4922 472 140 78 46 41\n",
      "70\t3999\t0.0\t5\t3612 258 60 31 17 21\n",
      "71\t3894\t0.0\t5\t3521 269 54 21 18 11\n",
      "72\t3739\t0.0\t5\t3272 280 88 47 26 26\n",
      "73\t3717\t0.0\t5\t3336 258 57 33 22 11\n",
      "74\t4105\t0.0\t5\t3590 327 89 45 35 19\n",
      "75\t4301\t0.0\t5\t3777 382 62 48 21 11\n",
      "76\t2324\t0.0\t5\t1888 208 157 47 15 9\n",
      "77\t3334\t0.0\t5\t2910 307 67 27 11 12\n",
      "78\t3568\t0.0\t5\t3094 314 90 38 23 9\n",
      "79\t2875\t0.0\t5\t2461 316 63 17 14 4\n",
      "80\t4374\t0.0\t5\t3762 411 122 43 23 13\n",
      "81\t2517\t0.0\t5\t2050 236 157 41 19 14\n",
      "82\t2042\t0.0\t5\t1530 188 212 60 26 26\n",
      "83\t1868\t0.0\t5\t1484 202 105 34 33 10\n",
      "84\t4876\t0.0\t5\t4114 445 126 111 56 24\n",
      "85\t3823\t0.0\t5\t3237 329 133 74 37 13\n",
      "86\t4517\t0.0\t5\t3924 334 102 79 51 27\n",
      "87\t5209\t0.0\t5\t4671 290 119 61 39 29\n",
      "88\t1672\t0.0\t5\t1344 166 55 38 31 38\n",
      "89\t946\t0.0\t5\t619 177 77 23 17 33\n",
      "90\t1222\t0.0\t5\t923 95 108 33 34 29\n",
      "91\t956\t0.0\t5\t650 88 121 52 25 20\n",
      "92\t887\t0.0\t5\t706 71 42 46 12 10\n",
      "93\t7879\t0.0\t5\t7366 344 48 66 43 12\n",
      "94\t724\t0.0\t5\t528 53 37 74 18 14\n",
      "95\t1077\t0.0\t5\t947 50 32 20 17 11\n",
      "96\t679\t0.0\t5\t548 42 21 41 12 15\n",
      "97\t1135\t0.0\t5\t924 68 50 50 22 21\n",
      "98\t809\t0.0\t5\t684 45 21 24 25 10\n",
      "99\t915\t0.0\t5\t711 51 56 17 51 29\n",
      "100\t1298\t0.0\t5\t878 100 79 35 163 43\n",
      "101\t7479\t0.0\t5\t867 148 558 177 5143 586\n"
     ]
    }
   ],
   "source": [
    "adapter_1 = \"AGATCGGAAGAGCACACGTC\"\n",
    "adapter_2 = \"ATATNNNNNNNNAGATCGGAAGAGCGTCGTG\"  # UMI = NNNNNNNNATAT\n",
    "\n",
    "cutadapt_out_r1 = \"read1.cutadapt.fastq\"\n",
    "cutadapt_out_r2 = \"read2.cutadapt.fastq\"\n",
    "\n",
    "!$cutadapt -m 32 -j 4 -q 20 -e 0.25 -a $adapter_1 -A $adapter_2 -o $cutadapt_out_r1 -p $cutadapt_out_r2 ../$read1 ../$read2"
   ]
  },
  {
   "cell_type": "code",
   "execution_count": 8,
   "metadata": {},
   "outputs": [
    {
     "name": "stdout",
     "output_type": "stream",
     "text": [
      "# UMI-tools version: 1.1.1\n",
      "# output generated by extract -p NNNNNNNNNNNN -I read1.cutadapt.fastq -S read1.UMI.fastq --read2-in read2.cutadapt.fastq --read2-out read2.UMI.fastq\n",
      "# job started at Wed May 31 16:13:00 2023 on orion -- 000c4b15-28a5-40f5-972b-297908658b64\n",
      "# pid: 1660982, system: Linux 5.15.0-69-generic #76~20.04.1-Ubuntu SMP Mon Mar 20 15:54:19 UTC 2023 x86_64\n",
      "# blacklist                               : None\n",
      "# compresslevel                           : 6\n",
      "# correct_umi_threshold                   : 0\n",
      "# either_read                             : False\n",
      "# either_read_resolve                     : discard\n",
      "# error_correct_cell                      : False\n",
      "# extract_method                          : string\n",
      "# filter_cell_barcode                     : None\n",
      "# filter_cell_barcodes                    : False\n",
      "# filter_umi                              : None\n",
      "# filtered_out                            : None\n",
      "# filtered_out2                           : None\n",
      "# ignore_suffix                           : False\n",
      "# log2stderr                              : False\n",
      "# loglevel                                : 1\n",
      "# pattern                                 : NNNNNNNNNNNN\n",
      "# pattern2                                : None\n",
      "# prime3                                  : None\n",
      "# quality_encoding                        : None\n",
      "# quality_filter_mask                     : None\n",
      "# quality_filter_threshold                : None\n",
      "# random_seed                             : None\n",
      "# read2_in                                : read2.cutadapt.fastq\n",
      "# read2_out                               : read2.UMI.fastq\n",
      "# read2_stdout                            : False\n",
      "# reads_subset                            : None\n",
      "# reconcile                               : False\n",
      "# retain_umi                              : None\n",
      "# short_help                              : None\n",
      "# stderr                                  : <_io.TextIOWrapper name='<stderr>' mode='w' encoding='utf-8'>\n",
      "# stdin                                   : <_io.TextIOWrapper name='read1.cutadapt.fastq' mode='r' encoding='UTF-8'>\n",
      "# stdlog                                  : <_io.TextIOWrapper name='<stdout>' mode='w' encoding='utf-8'>\n",
      "# stdout                                  : <_io.TextIOWrapper name='read1.UMI.fastq' mode='w' encoding='UTF-8'>\n",
      "# timeit_file                             : None\n",
      "# timeit_header                           : None\n",
      "# timeit_name                             : all\n",
      "# tmpdir                                  : None\n",
      "# umi_correct_log                         : None\n",
      "# umi_whitelist                           : None\n",
      "# umi_whitelist_paired                    : None\n",
      "# whitelist                               : None\n",
      "2023-05-31 16:13:00,922 INFO Starting barcode extraction\n",
      "2023-05-31 16:13:03,499 INFO Parsed 100000 reads\n",
      "2023-05-31 16:13:05,977 INFO Parsed 200000 reads\n",
      "2023-05-31 16:13:07,812 INFO Input Reads: 273999\n",
      "2023-05-31 16:13:07,812 INFO Reads output: 273999\n",
      "# job finished in 6 seconds at Wed May 31 16:13:07 2023 -- 10.99  4.76  0.00  0.00 -- 000c4b15-28a5-40f5-972b-297908658b64\n"
     ]
    },
    {
     "data": {
      "text/plain": [
       "0"
      ]
     },
     "execution_count": 8,
     "metadata": {},
     "output_type": "execute_result"
    }
   ],
   "source": [
    "# Extract UMI\n",
    "UMI_out_r1 = \"read1.UMI.fastq\"\n",
    "UMI_out_r2 = \"read2.UMI.fastq\"\n",
    "\n",
    "# A problem about UMI-tools...\n",
    "\n",
    "umitools_cmd = \"{umitools} extract -p NNNNNNNNNNNN -I {cutadapt_out_r1} -S {UMI_out_r1} --read2-in {cutadapt_out_r2} --read2-out {UMI_out_r2}\".format(umitools=umitools, cutadapt_out_r1=cutadapt_out_r1, cutadapt_out_r2=cutadapt_out_r2, UMI_out_r1=UMI_out_r1, UMI_out_r2=UMI_out_r2)\n",
    "\n",
    "import os\n",
    "os.system(umitools_cmd)\n"
   ]
  },
  {
   "attachments": {},
   "cell_type": "markdown",
   "metadata": {},
   "source": [
    "### 2. Mapping"
   ]
  },
  {
   "cell_type": "code",
   "execution_count": 9,
   "metadata": {},
   "outputs": [
    {
     "name": "stdout",
     "output_type": "stream",
     "text": [
      "[2023-05-31 16:13:08]Converting read1.UMI.fastq, A2G...\n",
      "[2023-05-31 16:13:09]Converting read2.UMI.fastq, T2C...\n",
      "[2023-05-31 16:13:10]Mapping with hisat2, TEMP prefix: hisat2_1661061\n",
      "[2023-05-31 16:13:27]A2G report:\n",
      "[2023-05-31 16:13:28]T2C report:\n",
      "[2023-05-31 16:13:28]Handling SAM outputs...\n",
      "[2023-05-31 16:13:50]Completed successfully:\n",
      " Total reads: 273999\n",
      " Unique mapping: 158348 (57.791%)\n",
      "   A2G: 80851 (29.51%)\n",
      "   T2C: 77497 (28.28%)\n",
      " Multiple mapping: 32421 (11.833%)\n",
      " Unmapped: 83230 (30.376%)\n"
     ]
    }
   ],
   "source": [
    "!$python $hisat2_script -F $UMI_out_r1 -R $UMI_out_r2 -o hisat2_genome -I $ref_genome_index --index-prefix HISAT2 --hisat2-path $hisat2_path --del-convert --del-sam"
   ]
  },
  {
   "cell_type": "code",
   "execution_count": 10,
   "metadata": {},
   "outputs": [
    {
     "name": "stdout",
     "output_type": "stream",
     "text": [
      "[bam_sort_core] merging from 0 files and 4 in-memory blocks...\r\n"
     ]
    }
   ],
   "source": [
    "!$samtools sort -@ 4 -m 4G -o hisat2_genome.sorted.bam hisat2_genome.bam\n",
    "!$samtools index hisat2_genome.sorted.bam"
   ]
  },
  {
   "cell_type": "code",
   "execution_count": 11,
   "metadata": {},
   "outputs": [],
   "source": [
    "!$umitools dedup --stdin=hisat2_genome.sorted.bam --log=umi.logs --method=unique > hisat2_genome.sorted.umi.bam"
   ]
  },
  {
   "cell_type": "code",
   "execution_count": 12,
   "metadata": {},
   "outputs": [
    {
     "name": "stdout",
     "output_type": "stream",
     "text": [
      "[bam_sort_core] merging from 0 files and 4 in-memory blocks...\r\n"
     ]
    }
   ],
   "source": [
    "!samtools sort -@ 4 -m 4G -o hisat2_genome.sorted.umi.sorted.bam  hisat2_genome.sorted.umi.bam\n",
    "!samtools index hisat2_genome.sorted.umi.sorted.bam "
   ]
  },
  {
   "attachments": {},
   "cell_type": "markdown",
   "metadata": {},
   "source": [
    "### 3. Fetch 5' ends of the reads"
   ]
  },
  {
   "cell_type": "code",
   "execution_count": 13,
   "metadata": {},
   "outputs": [
    {
     "name": "stdout",
     "output_type": "stream",
     "text": [
      "121029\r"
     ]
    }
   ],
   "source": [
    "bed_output = \"{}.bed\".format(name)\n",
    "sorted_bed = \"{}.sorted.bed\".format(name)\n",
    "\n",
    "!$python $bam2bed_script hisat2_genome.sorted.umi.sorted.bam > $bed_output\n",
    "!$bedtools sort -i $bed_output > $sorted_bed"
   ]
  },
  {
   "attachments": {},
   "cell_type": "markdown",
   "metadata": {},
   "source": [
    "### 4. Find the closest annotations for the 5' ends"
   ]
  },
  {
   "cell_type": "code",
   "execution_count": 14,
   "metadata": {},
   "outputs": [],
   "source": [
    "bed_tss_annot = \"{}.closest.tss.bed\".format(name)\n",
    "bed_tx_annot = \"{}.closest.tx.bed\".format(name)\n",
    "\n",
    "!$bedtools closest -s -D b -a $sorted_bed -b $tx_db_tss > $bed_tss_annot\n",
    "!$bedtools closest -s -D b -a $sorted_bed -b $tx_db_exons > $bed_tx_annot"
   ]
  },
  {
   "attachments": {},
   "cell_type": "markdown",
   "metadata": {},
   "source": [
    "### 5. Find the best annotation for the 5' ends"
   ]
  },
  {
   "attachments": {},
   "cell_type": "markdown",
   "metadata": {},
   "source": [
    "First, annotate by the closest TSS, ambiguous annoations are in the format \"*{name of the gene}_{distance}\""
   ]
  },
  {
   "cell_type": "code",
   "execution_count": 15,
   "metadata": {},
   "outputs": [],
   "source": [
    "bed_best_tss = \"{}.byTSS.bed\".format(name)\n",
    "\n",
    "!$python $annot_script_1 -i $bed_tss_annot -a $annot  -o $bed_best_tss"
   ]
  },
  {
   "attachments": {},
   "cell_type": "markdown",
   "metadata": {},
   "source": [
    "Second, the ambiguous annotations will be re-annotated by the transcripts. If the site is still ambiguous, the will be annotated by \"*{name of the gene}_{distance}\" again."
   ]
  },
  {
   "cell_type": "code",
   "execution_count": 16,
   "metadata": {},
   "outputs": [],
   "source": [
    "bed_best_tss_tx = \"{}.byTSS.byTx.bed\".format(name)\n",
    "\n",
    "!$python $annot_script_2 -i $bed_best_tss -I $bed_tx_annot -a $annot -o $bed_best_tss_tx"
   ]
  },
  {
   "attachments": {},
   "cell_type": "markdown",
   "metadata": {},
   "source": [
    "### 6. Simple annotations for the base and TPM"
   ]
  },
  {
   "cell_type": "code",
   "execution_count": 17,
   "metadata": {},
   "outputs": [],
   "source": [
    "bed_with_base = \"{}.byTSS.byTx.base.bed\".format(name)\n",
    "bed_with_tpm = \"{}.byTSS.byTx.base.tpm.bed\".format(name)\n",
    "\n",
    "!$python $bed_annotate_base -f $ref_genome -F 0 -i $bed_best_tss_tx > $bed_with_base\n",
    "!$python $bed_annotate_tpm $bed_with_base > $bed_with_tpm"
   ]
  },
  {
   "attachments": {},
   "cell_type": "markdown",
   "metadata": {},
   "source": [
    "### 7. Last step, find out which one is high-confident"
   ]
  },
  {
   "cell_type": "code",
   "execution_count": 18,
   "metadata": {},
   "outputs": [
    {
     "name": "stdout",
     "output_type": "stream",
     "text": [
      "  0%|                                          | 5/8215 [00:00<07:14, 18.89it/s]/home/fox/Projects/CROWN-Seq_example/A549_run/../ReCappabble-seq_caller_ben_version_v2.py:71: RuntimeWarning: invalid value encountered in divide\n",
      "  zscores = (tpms - np.mean(tpms))/np.std(tpms)\n",
      "100%|█████████████████████████████████████| 8215/8215 [00:01<00:00, 7304.53it/s]\n"
     ]
    }
   ],
   "source": [
    "output_prefix = \"{}.called\".format(name)\n",
    "\n",
    "!$python $tss_filters -i $bed_with_tpm -o $output_prefix"
   ]
  },
  {
   "attachments": {},
   "cell_type": "markdown",
   "metadata": {},
   "source": [
    "Finally, there will be two outputs:\n",
    "\n",
    "The high-confident sites will be stored in:\n",
    "\n",
    "`output_prefix`.ben.passed.bed \n",
    "\n",
    "While the sites do not pass the filters will be\n",
    "\n",
    "`output_prefix`.ben.filtered_out.bed\n",
    "\n",
    "Both of these two files are important for further analysis."
   ]
  },
  {
   "attachments": {},
   "cell_type": "markdown",
   "metadata": {},
   "source": [
    "### 8. When and where am I"
   ]
  },
  {
   "cell_type": "code",
   "execution_count": 19,
   "metadata": {},
   "outputs": [
    {
     "name": "stdout",
     "output_type": "stream",
     "text": [
      "/home/fox/Projects/CROWN-Seq_example/A549_run\n",
      "total 334420\n",
      "-rw-rw-r-- 1 fox fox   999050 May 31 16:14 A549_WT.bed\n",
      "-rw-rw-r-- 1 fox fox  2224094 May 31 16:14 A549_WT.byTSS.bed\n",
      "-rw-rw-r-- 1 fox fox  2082458 May 31 16:15 A549_WT.byTSS.byTx.base.bed\n",
      "-rw-rw-r-- 1 fox fox  2753453 May 31 16:15 A549_WT.byTSS.byTx.base.tpm.bed\n",
      "-rw-rw-r-- 1 fox fox  2008158 May 31 16:15 A549_WT.byTSS.byTx.bed\n",
      "-rw-rw-r-- 1 fox fox  3657061 May 31 16:15 A549_WT.called.ben.filtered_out.bed\n",
      "-rw-rw-r-- 1 fox fox   937726 May 31 16:15 A549_WT.called.ben.passed.bed\n",
      "-rw-rw-r-- 1 fox fox  3366972 May 31 16:14 A549_WT.closest.tss.bed\n",
      "-rw-rw-r-- 1 fox fox 13057734 May 31 16:14 A549_WT.closest.tx.bed\n",
      "-rw-rw-r-- 1 fox fox   999050 May 31 16:14 A549_WT.sorted.bed\n",
      "-rw-rw-r-- 1 fox fox 13808418 May 31 16:13 hisat2_genome.bam\n",
      "-rw-rw-r-- 1 fox fox  7987967 May 31 16:13 hisat2_genome.multimappers.bam\n",
      "-rw-rw-r-- 1 fox fox 10352027 May 31 16:13 hisat2_genome.sorted.bam\n",
      "-rw-rw-r-- 1 fox fox  1723552 May 31 16:13 hisat2_genome.sorted.bam.bai\n",
      "-rw-rw-r-- 1 fox fox  6086919 May 31 16:13 hisat2_genome.sorted.umi.bam\n",
      "-rw-rw-r-- 1 fox fox  6086941 May 31 16:13 hisat2_genome.sorted.umi.sorted.bam\n",
      "-rw-rw-r-- 1 fox fox  1719264 May 31 16:13 hisat2_genome.sorted.umi.sorted.bam.bai\n",
      "-rw-rw-r-- 1 fox fox 57615802 May 31 16:12 read1.cutadapt.fastq\n",
      "-rw-rw-r-- 1 fox fox 54601813 May 31 16:13 read1.UMI.fastq\n",
      "-rw-rw-r-- 1 fox fox 20552119 May 31 16:13 read1.UMI.unmapped.fastq\n",
      "-rw-rw-r-- 1 fox fox 52321420 May 31 16:12 read2.cutadapt.fastq\n",
      "-rw-rw-r-- 1 fox fox 55883407 May 31 16:13 read2.UMI.fastq\n",
      "-rw-rw-r-- 1 fox fox 21553181 May 31 16:13 read2.UMI.unmapped.fastq\n",
      "-rw-rw-r-- 1 fox fox     3766 May 31 16:13 umi.logs\n"
     ]
    }
   ],
   "source": [
    "!pwd -P\n",
    "!ls -l"
   ]
  },
  {
   "cell_type": "code",
   "execution_count": 20,
   "metadata": {},
   "outputs": [
    {
     "name": "stdout",
     "output_type": "stream",
     "text": [
      "Finished: 05/31/23 16:15:44\n"
     ]
    }
   ],
   "source": [
    "now = datetime.now()\n",
    "current_time = now.strftime(\"%D %H:%M:%S\")\n",
    "print(\"Finished:\", current_time)"
   ]
  },
  {
   "attachments": {},
   "cell_type": "markdown",
   "metadata": {},
   "source": [
    "## Don't forget to save the Notebook."
   ]
  }
 ],
 "metadata": {
  "kernelspec": {
   "display_name": "Python 3 (ipykernel)",
   "language": "python",
   "name": "python3"
  },
  "language_info": {
   "codemirror_mode": {
    "name": "ipython",
    "version": 3
   },
   "file_extension": ".py",
   "mimetype": "text/x-python",
   "name": "python",
   "nbconvert_exporter": "python",
   "pygments_lexer": "ipython3",
   "version": "3.9.14"
  }
 },
 "nbformat": 4,
 "nbformat_minor": 2
}
