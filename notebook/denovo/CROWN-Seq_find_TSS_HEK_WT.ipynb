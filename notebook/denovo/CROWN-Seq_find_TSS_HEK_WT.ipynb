{
 "cells": [
  {
   "attachments": {},
   "cell_type": "markdown",
   "metadata": {},
   "source": [
    "## *De novo* TSS finding by CROWN-Seq and ReCappable-Seq\n",
    "\n",
    "Jianheng Liu (Fox) @ Jaffrey Lab, May 31st, 2023\n",
    "\n",
    "Concat: jil4026@med.cornell.edu"
   ]
  },
  {
   "attachments": {},
   "cell_type": "markdown",
   "metadata": {},
   "source": [
    "**Usage:** Modify `Prepartion` section to fit your computer. Modify `Variable` section before each run.All outputs will be saved in the `workpath`. Logs will be saved in the notebook. Don't close the `Notebook` before it finished (keep the backend at least)!\n",
    "\n",
    "**Note 1:** In Jupyter notebook, `!` means using `bash` in the cell, and `$` means using python variables.\n",
    "\n",
    "**Note 2:** This panel notebook should be compatible with `Python 3`. But please use `Python 2` to run the analytic scripts.\n",
    "\n",
    "**Note 3:** I used Gencode v34 in the article for compatiblity. Here I use Ensembl release 104 for illustration. Newer annotations are normally better.\n",
    "\n",
    "**Note 4:** This notebook is for paired-end reads. If you are using single-end, switch to the scripts end with `_SE.py`. And don't forget to change the parameters."
   ]
  },
  {
   "cell_type": "code",
   "execution_count": 1,
   "metadata": {},
   "outputs": [
    {
     "name": "stdout",
     "output_type": "stream",
     "text": [
      "Started: 05/31/23 15:34:57\n",
      "/home/fox/Projects/CROWN-Seq_example\r\n"
     ]
    }
   ],
   "source": [
    "# local time\n",
    "from datetime import datetime\n",
    "now = datetime.now()\n",
    "current_time = now.strftime(\"%D %H:%M:%S\")\n",
    "print(\"Started:\", current_time)\n",
    "\n",
    "# Show notebook directory\n",
    "!pwd -P"
   ]
  },
  {
   "attachments": {},
   "cell_type": "markdown",
   "metadata": {},
   "source": [
    "### 0. Variable here"
   ]
  },
  {
   "cell_type": "code",
   "execution_count": 2,
   "metadata": {},
   "outputs": [],
   "source": [
    "name = \"HEK_WT\" # file name prefix\n",
    "folder = \"WT_run/\"\n",
    "path = \"./\" # output path: workpath=path/folder\n",
    "workpath = path + \"/\" + folder + \"/\"\n",
    "read1 = \"HEK293T_rep1_example.R1.fastq.gz\" # fastq or fastq.gz\n",
    "read2 = \"HEK293T_rep1_example.R2.fastq.gz\""
   ]
  },
  {
   "attachments": {},
   "cell_type": "markdown",
   "metadata": {},
   "source": [
    "### 1. Preparation"
   ]
  },
  {
   "cell_type": "code",
   "execution_count": 3,
   "metadata": {},
   "outputs": [],
   "source": [
    "ref_genome_index = \"/home/fox/Database/GLORI_index/GRCh38_r104/hisat2_index/\"\n",
    "ref_genome = \"/home/fox/Database/GLORI_index/GRCh38_r104/hisat2_index/Homo_sapiens.GRCh38.dna_sm.primary_assembly.fa\"\n",
    "tx_db_exons = \"/home/fox/Database/Genome/Ensembl/GRCh38_r104/Homo_sapiens.GRCh38.104.noheader.tx.bed\"\n",
    "tx_db_tss = \"/home/fox/Database/Genome/Ensembl/GRCh38_r104/Homo_sapiens.GRCh38.104.noheader.anno.tss\"\n",
    "faidx = \"/home/fox/Database/GLORI_index/GRCh38_r104/hisat2_index/Homo_sapiens.GRCh38.dna_sm.primary_assembly.fa.fai\"\n",
    "annot = \"/home/fox/Database/Genome/Ensembl/GRCh38_r104/Homo_sapiens.GRCh38.104.noheader.anno\""
   ]
  },
  {
   "attachments": {},
   "cell_type": "markdown",
   "metadata": {},
   "source": [
    "**Software** (For python, use the fixed version)"
   ]
  },
  {
   "cell_type": "code",
   "execution_count": 4,
   "metadata": {},
   "outputs": [],
   "source": [
    "python = '/home/fox/Software/bin/python'\n",
    "bowtie2 = '/home/fox/Software/bin/python2'\n",
    "samtools = '/home/fox/Software/samtools/1.16/bin/samtools'\n",
    "cutadapt = '/home/fox/Software/bin/cutadapt'\n",
    "hisat2_path = '/home/fox/Software/hisat2/2.1.0/'\n",
    "umitools = '/home/fox/Software/bin/umi_tools'\n",
    "bedtools = '/home/fox/Software/bedtools/2.29.1/bedtools'"
   ]
  },
  {
   "attachments": {},
   "cell_type": "markdown",
   "metadata": {},
   "source": [
    "**Scripts**"
   ]
  },
  {
   "cell_type": "code",
   "execution_count": 5,
   "metadata": {},
   "outputs": [],
   "source": [
    "hisat2_script = \"../A2G_hisat2.py\"\n",
    "bam2bed_script  = \"../Align_to_cap_starts_PE.py\"\n",
    "annot_script_1 = \"../collaspe_bed_annotations_v2.py\"\n",
    "annot_script_2 = \"../collaspe_bed_annotations_fix_other_exons.py\"\n",
    "bed_annotate_base = \"../genome_flanking_v3_bed_annot.py\"\n",
    "bed_annotate_tpm = \"../get_tpm.py\"\n",
    "tss_filters = \"../ReCappabble-seq_caller_ben_version_v2.py\""
   ]
  },
  {
   "attachments": {},
   "cell_type": "markdown",
   "metadata": {},
   "source": [
    "**Create the workpath if not exist, then move to the workpath**"
   ]
  },
  {
   "cell_type": "code",
   "execution_count": 6,
   "metadata": {},
   "outputs": [],
   "source": [
    "import os\n",
    "if os.path.isdir(workpath) == False:\n",
    "    os.mkdir(workpath)\n",
    "os.chdir(workpath)"
   ]
  },
  {
   "attachments": {},
   "cell_type": "markdown",
   "metadata": {},
   "source": [
    "### 2. QC"
   ]
  },
  {
   "cell_type": "code",
   "execution_count": 7,
   "metadata": {},
   "outputs": [
    {
     "name": "stdout",
     "output_type": "stream",
     "text": [
      "This is cutadapt 4.1 with Python 3.9.14\n",
      "Command line parameters: -m 32 -j 4 -q 20 -e 0.25 -a AGATCGGAAGAGCACACGTC -A ATATNNNNNNNNAGATCGGAAGAGCGTCGTG -o read1.cutadapt.fastq -p read2.cutadapt.fastq ../HEK293T_rep1_example.R1.fastq.gz ../HEK293T_rep1_example.R2.fastq.gz\n",
      "Processing paired-end reads on 4 cores ...\n",
      "Done           00:00:07     1,000,000 reads @   7.9 µs/read;   7.61 M reads/minute\n",
      "Finished in 7.89 s (8 µs/read; 7.61 M reads/minute).\n",
      "\n",
      "=== Summary ===\n",
      "\n",
      "Total read pairs processed:          1,000,000\n",
      "  Read 1 with adapter:                 971,361 (97.1%)\n",
      "  Read 2 with adapter:                 327,934 (32.8%)\n",
      "\n",
      "== Read fate breakdown ==\n",
      "Pairs that were too short:             799,979 (80.0%)\n",
      "Pairs written (passing filters):       200,021 (20.0%)\n",
      "\n",
      "Total basepairs processed:   202,000,000 bp\n",
      "  Read 1:   101,000,000 bp\n",
      "  Read 2:   101,000,000 bp\n",
      "Quality-trimmed:                 974,581 bp (0.5%)\n",
      "  Read 1:       468,185 bp\n",
      "  Read 2:       506,396 bp\n",
      "Total written (filtered):     26,521,796 bp (13.1%)\n",
      "  Read 1:    14,253,816 bp\n",
      "  Read 2:    12,267,980 bp\n",
      "\n",
      "=== First read: Adapter 1 ===\n",
      "\n",
      "Sequence: AGATCGGAAGAGCACACGTC; Type: regular 3'; Length: 20; Trimmed: 971361 times\n",
      "\n",
      "Minimum overlap: 3\n",
      "No. of allowed errors:\n",
      "1-3 bp: 0; 4-7 bp: 1; 8-11 bp: 2; 12-15 bp: 3; 16-19 bp: 4; 20 bp: 5\n",
      "\n",
      "Bases preceding removed adapters:\n",
      "  A: 9.6%\n",
      "  C: 27.8%\n",
      "  G: 16.4%\n",
      "  T: 12.4%\n",
      "  none/other: 33.9%\n",
      "\n",
      "Overview of removed sequences\n",
      "length\tcount\texpect\tmax.err\terror counts\n",
      "3\t1648\t15625.0\t0\t1587 61\n",
      "4\t2075\t3906.2\t1\t1540 535\n",
      "5\t5348\t976.6\t1\t5091 257\n",
      "6\t1855\t244.1\t1\t1664 161 30\n",
      "7\t1674\t61.0\t1\t1535 112 27\n",
      "8\t1653\t15.3\t2\t1430 127 96\n",
      "9\t2160\t3.8\t2\t1755 247 158\n",
      "10\t1315\t1.0\t2\t1222 71 22\n",
      "11\t1964\t0.2\t2\t1656 181 120 7\n",
      "12\t1698\t0.1\t3\t1507 91 41 59\n",
      "13\t1970\t0.0\t3\t1598 122 100 150\n",
      "14\t2019\t0.0\t3\t1637 197 98 83 4\n",
      "15\t2839\t0.0\t3\t2185 137 53 68 396\n",
      "16\t2307\t0.0\t4\t1763 245 149 105 45\n",
      "17\t2819\t0.0\t4\t2259 295 123 59 83\n",
      "18\t1868\t0.0\t4\t1744 58 22 18 25 1\n",
      "19\t1954\t0.0\t4\t1759 132 30 18 12 3\n",
      "20\t2237\t0.0\t5\t1934 164 75 29 18 17\n",
      "21\t2917\t0.0\t5\t2662 158 35 28 11 23\n",
      "22\t2040\t0.0\t5\t1897 94 20 12 7 10\n",
      "23\t2411\t0.0\t5\t2107 156 79 36 22 11\n",
      "24\t4589\t0.0\t5\t3683 395 241 130 70 70\n",
      "25\t2696\t0.0\t5\t2369 175 74 42 19 17\n",
      "26\t2230\t0.0\t5\t2021 107 36 29 24 13\n",
      "27\t2720\t0.0\t5\t2462 148 51 27 17 15\n",
      "28\t3248\t0.0\t5\t2797 224 96 57 47 27\n",
      "29\t4084\t0.0\t5\t3323 379 175 91 63 53\n",
      "30\t2789\t0.0\t5\t2637 101 27 8 8 8\n",
      "31\t3255\t0.0\t5\t2920 179 71 49 24 12\n",
      "32\t3348\t0.0\t5\t3122 136 45 22 10 13\n",
      "33\t4113\t0.0\t5\t3541 264 128 83 51 46\n",
      "34\t3689\t0.0\t5\t3322 197 64 43 32 31\n",
      "35\t4901\t0.0\t5\t3992 431 196 141 74 67\n",
      "36\t3509\t0.0\t5\t3106 162 81 55 57 48\n",
      "37\t4316\t0.0\t5\t4021 163 41 22 34 35\n",
      "38\t3891\t0.0\t5\t3451 230 81 58 39 32\n",
      "39\t6281\t0.0\t5\t4563 667 415 293 210 133\n",
      "40\t3675\t0.0\t5\t3349 182 54 32 32 26\n",
      "41\t6177\t0.0\t5\t5348 455 181 83 64 46\n",
      "42\t4004\t0.0\t5\t3667 202 59 35 23 18\n",
      "43\t7146\t0.0\t5\t5891 524 281 189 142 119\n",
      "44\t5547\t0.0\t5\t4656 491 186 106 63 45\n",
      "45\t7267\t0.0\t5\t6694 358 92 53 37 33\n",
      "46\t1359\t0.0\t5\t1210 91 29 13 10 6\n",
      "47\t4071\t0.0\t5\t3755 192 67 27 10 20\n",
      "48\t5636\t0.0\t5\t5049 334 107 69 42 35\n",
      "49\t4828\t0.0\t5\t4428 245 69 40 31 15\n",
      "50\t3059\t0.0\t5\t2753 198 55 16 17 20\n",
      "51\t6026\t0.0\t5\t5467 333 96 68 39 23\n",
      "52\t2905\t0.0\t5\t2693 122 37 19 15 19\n",
      "53\t3090\t0.0\t5\t2924 115 20 17 6 8\n",
      "54\t4357\t0.0\t5\t3986 226 62 33 33 17\n",
      "55\t5589\t0.0\t5\t5268 204 45 32 15 25\n",
      "56\t3592\t0.0\t5\t3394 140 24 12 10 12\n",
      "57\t3492\t0.0\t5\t3340 96 21 10 9 16\n",
      "58\t3373\t0.0\t5\t3214 88 22 12 10 27\n",
      "59\t6726\t0.0\t5\t6423 187 35 20 23 38\n",
      "60\t1620\t0.0\t5\t1499 50 11 7 11 42\n",
      "61\t2464\t0.0\t5\t2278 72 13 8 15 78\n",
      "62\t5501\t0.0\t5\t5260 125 14 10 12 80\n",
      "63\t2150\t0.0\t5\t1992 64 5 8 5 76\n",
      "64\t1458\t0.0\t5\t1252 42 7 12 17 128\n",
      "65\t2298\t0.0\t5\t2062 76 19 14 16 111\n",
      "66\t5541\t0.0\t5\t4767 181 33 22 26 512\n",
      "67\t807\t0.0\t5\t668 45 4 10 13 67\n",
      "68\t2322\t0.0\t5\t2177 68 17 12 16 32\n",
      "69\t1252\t0.0\t5\t1097 55 18 9 16 57\n",
      "70\t708\t0.0\t5\t553 29 14 12 17 83\n",
      "71\t223\t0.0\t5\t87 6 5 3 5 117\n",
      "72\t1901\t0.0\t5\t1620 76 25 13 17 150\n",
      "73\t2090\t0.0\t5\t1673 69 9 10 36 293\n",
      "74\t2013\t0.0\t5\t1787 75 13 18 25 95\n",
      "75\t2128\t0.0\t5\t1917 77 8 22 37 67\n",
      "76\t1733\t0.0\t5\t1470 62 4 43 65 89\n",
      "77\t1540\t0.0\t5\t1340 52 3 13 36 96\n",
      "78\t1687\t0.0\t5\t1413 42 5 24 73 130\n",
      "79\t1578\t0.0\t5\t823 25 8 115 252 355\n",
      "80\t4691\t0.0\t5\t708 25 48 1294 1807 809\n",
      "81\t48647\t0.0\t5\t16477 337 240 8214 15227 8152\n",
      "82\t1584\t0.0\t5\t683 14 4 187 451 245\n",
      "83\t3994\t0.0\t5\t1597 30 5 152 1690 520\n",
      "84\t746\t0.0\t5\t564 18 0 12 82 70\n",
      "85\t1158\t0.0\t5\t965 22 2 6 98 65\n",
      "86\t850\t0.0\t5\t634 11 0 28 95 82\n",
      "87\t996\t0.0\t5\t751 23 0 62 65 95\n",
      "88\t1151\t0.0\t5\t909 18 5 14 51 154\n",
      "89\t983\t0.0\t5\t743 19 1 20 59 141\n",
      "90\t290\t0.0\t5\t70 6 2 2 28 182\n",
      "91\t699\t0.0\t5\t270 14 4 10 234 167\n",
      "92\t988\t0.0\t5\t178 11 0 1 227 571\n",
      "93\t11571\t0.0\t5\t5269 163 5 27 2325 3782\n",
      "94\t665\t0.0\t5\t548 69 2 0 11 35\n",
      "95\t28548\t0.0\t5\t27863 636 16 7 6 20\n",
      "96\t1709\t0.0\t5\t1630 57 7 1 11 3\n",
      "97\t4676\t0.0\t5\t4389 239 16 16 6 10\n",
      "98\t50474\t0.0\t5\t48731 1520 163 24 15 21\n",
      "99\t107917\t0.0\t5\t104661 2899 209 60 43 45\n",
      "100\t133586\t0.0\t5\t130079 3177 178 51 11 90\n",
      "101\t326075\t0.0\t5\t318356 6935 264 67 349 104\n",
      "\n",
      "\n",
      "=== Second read: Adapter 2 ===\n",
      "\n",
      "Sequence: ATATNNNNNNNNAGATCGGAAGAGCGTCGTG; Type: regular 3'; Length: 31; Trimmed: 327934 times\n",
      "\n",
      "Minimum overlap: 3\n",
      "No. of allowed errors:\n",
      "1-3 bp: 0; 4-7 bp: 1; 8-11 bp: 2; 12-15 bp: 3; 16-19 bp: 4; 20-23 bp: 5\n",
      "\n",
      "Bases preceding removed adapters:\n",
      "  A: 10.1%\n",
      "  C: 44.0%\n",
      "  G: 16.5%\n",
      "  T: 27.1%\n",
      "  none/other: 2.2%\n",
      "\n",
      "Overview of removed sequences\n",
      "length\tcount\texpect\tmax.err\terror counts\n",
      "3\t329\t15625.0\t0\t295 34\n",
      "4\t513\t3906.2\t1\t204 309\n",
      "5\t1054\t976.6\t1\t300 754\n",
      "6\t897\t244.1\t1\t344 553\n",
      "7\t1102\t61.0\t1\t345 757\n",
      "8\t995\t15.3\t2\t334 661\n",
      "9\t1548\t3.8\t2\t449 1099\n",
      "10\t3456\t1.0\t2\t442 3014\n",
      "11\t1978\t0.2\t2\t793 1185\n",
      "12\t3370\t0.1\t3\t1187 2183\n",
      "13\t4127\t0.0\t3\t1812 2315\n",
      "14\t1312\t0.0\t3\t1016 283 13\n",
      "15\t1672\t0.0\t3\t1237 358 77\n",
      "16\t1393\t0.0\t4\t1008 137 248\n",
      "17\t4065\t0.0\t4\t2507 176 1373 9\n",
      "18\t3589\t0.0\t4\t3147 213 195 34\n",
      "19\t1482\t0.0\t4\t1158 169 137 18\n",
      "20\t1798\t0.0\t5\t1543 130 54 71\n",
      "21\t1732\t0.0\t5\t1387 146 91 106 2\n",
      "22\t1567\t0.0\t5\t1348 129 46 39 5\n",
      "23\t1561\t0.0\t5\t1238 149 89 81 4\n",
      "24\t1934\t0.0\t5\t1628 148 75 44 39\n",
      "25\t1769\t0.0\t5\t1456 146 80 49 38\n",
      "26\t2074\t0.0\t5\t1671 212 97 56 37 1\n",
      "27\t2036\t0.0\t5\t1799 142 41 38 15 1\n",
      "28\t1704\t0.0\t5\t1454 158 39 18 19 16\n",
      "29\t2457\t0.0\t5\t2059 206 77 50 40 25\n",
      "30\t1696\t0.0\t5\t1473 140 28 17 18 20\n",
      "31\t2735\t0.0\t5\t2125 333 120 64 64 29\n",
      "32\t1623\t0.0\t5\t1419 119 36 18 18 13\n",
      "33\t2810\t0.0\t5\t2485 181 55 32 32 25\n",
      "34\t2126\t0.0\t5\t1773 212 55 39 27 20\n",
      "35\t2329\t0.0\t5\t1941 202 61 49 40 36\n",
      "36\t4141\t0.0\t5\t3327 427 146 96 76 69\n",
      "37\t2812\t0.0\t5\t2440 270 48 21 13 20\n",
      "38\t2368\t0.0\t5\t1974 211 67 40 43 33\n",
      "39\t3408\t0.0\t5\t2775 282 119 89 76 67\n",
      "40\t3194\t0.0\t5\t2738 303 60 45 27 21\n",
      "41\t5177\t0.0\t5\t4424 475 124 63 55 36\n",
      "42\t4111\t0.0\t5\t3445 432 120 61 27 26\n",
      "43\t15144\t0.0\t5\t13791 999 162 98 51 43\n",
      "44\t3686\t0.0\t5\t3071 377 127 57 32 22\n",
      "45\t6037\t0.0\t5\t5417 428 105 36 32 19\n",
      "46\t3734\t0.0\t5\t3186 351 107 45 23 22\n",
      "47\t4219\t0.0\t5\t3659 376 91 40 35 18\n",
      "48\t4875\t0.0\t5\t3961 514 164 108 80 48\n",
      "49\t6047\t0.0\t5\t5373 477 105 41 30 21\n",
      "50\t2835\t0.0\t5\t2567 188 38 18 11 13\n",
      "51\t4934\t0.0\t5\t4293 460 84 46 27 24\n",
      "52\t3422\t0.0\t5\t3008 304 56 30 16 8\n",
      "53\t5922\t0.0\t5\t5173 454 121 84 48 42\n",
      "54\t3695\t0.0\t5\t3193 354 89 27 17 15\n",
      "55\t7627\t0.0\t5\t6941 485 100 50 26 25\n",
      "56\t3768\t0.0\t5\t3303 332 59 26 23 25\n",
      "57\t4338\t0.0\t5\t3804 334 82 57 38 23\n",
      "58\t4523\t0.0\t5\t3854 415 138 50 37 29\n",
      "59\t3803\t0.0\t5\t3421 264 54 23 20 21\n",
      "60\t4135\t0.0\t5\t3524 374 104 62 39 32\n",
      "61\t4523\t0.0\t5\t4005 334 90 52 26 16\n",
      "62\t3633\t0.0\t5\t3260 266 49 25 17 16\n",
      "63\t3484\t0.0\t5\t3167 232 43 17 16 9\n",
      "64\t3373\t0.0\t5\t3055 234 39 17 12 16\n",
      "65\t3728\t0.0\t5\t3358 248 55 36 14 17\n",
      "66\t3970\t0.0\t5\t3445 315 97 47 36 30\n",
      "67\t4117\t0.0\t5\t3749 252 55 23 21 17\n",
      "68\t11455\t0.0\t5\t10619 683 63 33 35 22\n",
      "69\t5687\t0.0\t5\t5069 402 92 56 38 30\n",
      "70\t4714\t0.0\t5\t4299 309 61 25 13 7\n",
      "71\t4157\t0.0\t5\t3846 245 33 19 5 9\n",
      "72\t3788\t0.0\t5\t3435 233 72 18 21 9\n",
      "73\t4294\t0.0\t5\t3964 245 38 16 16 15\n",
      "74\t4787\t0.0\t5\t4304 356 55 38 20 14\n",
      "75\t4206\t0.0\t5\t3722 344 73 35 17 15\n",
      "76\t2123\t0.0\t5\t1678 243 131 45 17 9\n",
      "77\t3649\t0.0\t5\t3219 330 50 23 17 10\n",
      "78\t3541\t0.0\t5\t3084 356 61 21 14 5\n",
      "79\t2655\t0.0\t5\t2190 310 91 36 13 15\n",
      "80\t4812\t0.0\t5\t4219 415 110 33 20 15\n",
      "81\t2632\t0.0\t5\t2053 309 191 41 22 16\n",
      "82\t1946\t0.0\t5\t1474 180 240 31 14 7\n",
      "83\t1946\t0.0\t5\t1550 214 96 49 28 9\n",
      "84\t5842\t0.0\t5\t4988 498 161 119 53 23\n",
      "85\t4406\t0.0\t5\t3652 448 136 107 50 13\n",
      "86\t4568\t0.0\t5\t4058 335 63 63 34 15\n",
      "87\t5785\t0.0\t5\t5356 280 76 29 30 14\n",
      "88\t1769\t0.0\t5\t1493 167 46 14 29 20\n",
      "89\t792\t0.0\t5\t542 179 36 9 17 9\n",
      "90\t946\t0.0\t5\t778 52 75 13 12 16\n",
      "91\t797\t0.0\t5\t577 62 115 19 9 15\n",
      "92\t1042\t0.0\t5\t876 53 11 87 11 4\n",
      "93\t13075\t0.0\t5\t12433 543 45 23 20 11\n",
      "94\t577\t0.0\t5\t467 25 10 38 32 5\n",
      "95\t1426\t0.0\t5\t1300 72 12 15 22 5\n",
      "96\t555\t0.0\t5\t480 41 6 10 12 6\n",
      "97\t926\t0.0\t5\t828 47 14 9 11 17\n",
      "98\t627\t0.0\t5\t542 37 11 9 20 8\n",
      "99\t799\t0.0\t5\t688 36 22 5 34 14\n",
      "100\t1089\t0.0\t5\t814 51 17 6 156 45\n",
      "101\t6905\t0.0\t5\t673 74 233 106 5263 556\n"
     ]
    }
   ],
   "source": [
    "adapter_1 = \"AGATCGGAAGAGCACACGTC\"\n",
    "adapter_2 = \"ATATNNNNNNNNAGATCGGAAGAGCGTCGTG\"  # UMI = NNNNNNNNATAT\n",
    "\n",
    "cutadapt_out_r1 = \"read1.cutadapt.fastq\"\n",
    "cutadapt_out_r2 = \"read2.cutadapt.fastq\"\n",
    "\n",
    "!$cutadapt -m 32 -j 4 -q 20 -e 0.25 -a $adapter_1 -A $adapter_2 -o $cutadapt_out_r1 -p $cutadapt_out_r2 ../$read1 ../$read2"
   ]
  },
  {
   "cell_type": "code",
   "execution_count": 8,
   "metadata": {},
   "outputs": [
    {
     "name": "stdout",
     "output_type": "stream",
     "text": [
      "# UMI-tools version: 1.1.1\n",
      "# output generated by extract -p NNNNNNNNNNNN -I read1.cutadapt.fastq -S read1.UMI.fastq --read2-in read2.cutadapt.fastq --read2-out read2.UMI.fastq\n",
      "# job started at Wed May 31 15:35:06 2023 on orion -- 99e4f7ca-9ac5-4d87-bb13-84ba93b04a62\n",
      "# pid: 1659347, system: Linux 5.15.0-69-generic #76~20.04.1-Ubuntu SMP Mon Mar 20 15:54:19 UTC 2023 x86_64\n",
      "# blacklist                               : None\n",
      "# compresslevel                           : 6\n",
      "# correct_umi_threshold                   : 0\n",
      "# either_read                             : False\n",
      "# either_read_resolve                     : discard\n",
      "# error_correct_cell                      : False\n",
      "# extract_method                          : string\n",
      "# filter_cell_barcode                     : None\n",
      "# filter_cell_barcodes                    : False\n",
      "# filter_umi                              : None\n",
      "# filtered_out                            : None\n",
      "# filtered_out2                           : None\n",
      "# ignore_suffix                           : False\n",
      "# log2stderr                              : False\n",
      "# loglevel                                : 1\n",
      "# pattern                                 : NNNNNNNNNNNN\n",
      "# pattern2                                : None\n",
      "# prime3                                  : None\n",
      "# quality_encoding                        : None\n",
      "# quality_filter_mask                     : None\n",
      "# quality_filter_threshold                : None\n",
      "# random_seed                             : None\n",
      "# read2_in                                : read2.cutadapt.fastq\n",
      "# read2_out                               : read2.UMI.fastq\n",
      "# read2_stdout                            : False\n",
      "# reads_subset                            : None\n",
      "# reconcile                               : False\n",
      "# retain_umi                              : None\n",
      "# short_help                              : None\n",
      "# stderr                                  : <_io.TextIOWrapper name='<stderr>' mode='w' encoding='utf-8'>\n",
      "# stdin                                   : <_io.TextIOWrapper name='read1.cutadapt.fastq' mode='r' encoding='UTF-8'>\n",
      "# stdlog                                  : <_io.TextIOWrapper name='<stdout>' mode='w' encoding='utf-8'>\n",
      "# stdout                                  : <_io.TextIOWrapper name='read1.UMI.fastq' mode='w' encoding='UTF-8'>\n",
      "# timeit_file                             : None\n",
      "# timeit_header                           : None\n",
      "# timeit_name                             : all\n",
      "# tmpdir                                  : None\n",
      "# umi_correct_log                         : None\n",
      "# umi_whitelist                           : None\n",
      "# umi_whitelist_paired                    : None\n",
      "# whitelist                               : None\n",
      "2023-05-31 15:35:06,995 INFO Starting barcode extraction\n",
      "2023-05-31 15:35:09,399 INFO Parsed 100000 reads\n",
      "2023-05-31 15:35:11,800 INFO Parsed 200000 reads\n",
      "2023-05-31 15:35:11,801 INFO Input Reads: 200021\n",
      "2023-05-31 15:35:11,801 INFO Reads output: 200021\n",
      "# job finished in 4 seconds at Wed May 31 15:35:11 2023 --  8.74  4.68  0.00  0.00 -- 99e4f7ca-9ac5-4d87-bb13-84ba93b04a62\n"
     ]
    },
    {
     "data": {
      "text/plain": [
       "0"
      ]
     },
     "execution_count": 8,
     "metadata": {},
     "output_type": "execute_result"
    }
   ],
   "source": [
    "# Extract UMI\n",
    "UMI_out_r1 = \"read1.UMI.fastq\"\n",
    "UMI_out_r2 = \"read2.UMI.fastq\"\n",
    "\n",
    "# A problem about UMI-tools...\n",
    "\n",
    "umitools_cmd = \"{umitools} extract -p NNNNNNNNNNNN -I {cutadapt_out_r1} -S {UMI_out_r1} --read2-in {cutadapt_out_r2} --read2-out {UMI_out_r2}\".format(umitools=umitools, cutadapt_out_r1=cutadapt_out_r1, cutadapt_out_r2=cutadapt_out_r2, UMI_out_r1=UMI_out_r1, UMI_out_r2=UMI_out_r2)\n",
    "\n",
    "import os\n",
    "os.system(umitools_cmd)\n"
   ]
  },
  {
   "attachments": {},
   "cell_type": "markdown",
   "metadata": {},
   "source": [
    "### 2. Mapping"
   ]
  },
  {
   "cell_type": "code",
   "execution_count": 9,
   "metadata": {},
   "outputs": [
    {
     "name": "stdout",
     "output_type": "stream",
     "text": [
      "[2023-05-31 15:35:12]Converting read1.UMI.fastq, A2G...\n",
      "[2023-05-31 15:35:12]Converting read2.UMI.fastq, T2C...\n",
      "[2023-05-31 15:35:13]Mapping with hisat2, TEMP prefix: hisat2_1659426\n",
      "[2023-05-31 15:35:28]T2C report:\n",
      "[2023-05-31 15:35:28]A2G report:\n",
      "[2023-05-31 15:35:28]Handling SAM outputs...\n",
      "[2023-05-31 15:35:45]Completed successfully:\n",
      " Total reads: 200021\n",
      " Unique mapping: 98136 (49.063%)\n",
      "   A2G: 50229 (25.11%)\n",
      "   T2C: 47907 (23.95%)\n",
      " Multiple mapping: 29860 (14.928%)\n",
      " Unmapped: 72025 (36.009%)\n"
     ]
    }
   ],
   "source": [
    "!$python $hisat2_script -F $UMI_out_r1 -R $UMI_out_r2 -o hisat2_genome -I $ref_genome_index --index-prefix HISAT2 --hisat2-path $hisat2_path --del-convert --del-sam"
   ]
  },
  {
   "cell_type": "code",
   "execution_count": 10,
   "metadata": {},
   "outputs": [
    {
     "name": "stdout",
     "output_type": "stream",
     "text": [
      "[bam_sort_core] merging from 0 files and 4 in-memory blocks...\r\n"
     ]
    }
   ],
   "source": [
    "!$samtools sort -@ 4 -m 4G -o hisat2_genome.sorted.bam hisat2_genome.bam\n",
    "!$samtools index hisat2_genome.sorted.bam"
   ]
  },
  {
   "cell_type": "code",
   "execution_count": 11,
   "metadata": {},
   "outputs": [],
   "source": [
    "!$umitools dedup --stdin=hisat2_genome.sorted.bam --log=umi.logs --method=unique > hisat2_genome.sorted.umi.bam"
   ]
  },
  {
   "cell_type": "code",
   "execution_count": 12,
   "metadata": {},
   "outputs": [
    {
     "name": "stdout",
     "output_type": "stream",
     "text": [
      "[bam_sort_core] merging from 0 files and 4 in-memory blocks...\r\n"
     ]
    }
   ],
   "source": [
    "!samtools sort -@ 4 -m 4G -o hisat2_genome.sorted.umi.sorted.bam  hisat2_genome.sorted.umi.bam\n",
    "!samtools index hisat2_genome.sorted.umi.sorted.bam "
   ]
  },
  {
   "attachments": {},
   "cell_type": "markdown",
   "metadata": {},
   "source": [
    "### 3. Fetch 5' ends of the reads"
   ]
  },
  {
   "cell_type": "code",
   "execution_count": 13,
   "metadata": {},
   "outputs": [
    {
     "name": "stdout",
     "output_type": "stream",
     "text": [
      "75443\r"
     ]
    }
   ],
   "source": [
    "bed_output = \"{}.bed\".format(name)\n",
    "sorted_bed = \"{}.sorted.bed\".format(name)\n",
    "\n",
    "!$python $bam2bed_script hisat2_genome.sorted.umi.sorted.bam > $bed_output\n",
    "!$bedtools sort -i $bed_output > $sorted_bed"
   ]
  },
  {
   "attachments": {},
   "cell_type": "markdown",
   "metadata": {},
   "source": [
    "### 4. Find the closest annotations for the 5' ends"
   ]
  },
  {
   "cell_type": "code",
   "execution_count": 14,
   "metadata": {},
   "outputs": [],
   "source": [
    "bed_tss_annot = \"{}.closest.tss.bed\".format(name)\n",
    "bed_tx_annot = \"{}.closest.tx.bed\".format(name)\n",
    "\n",
    "!$bedtools closest -s -D b -a $sorted_bed -b $tx_db_tss > $bed_tss_annot\n",
    "!$bedtools closest -s -D b -a $sorted_bed -b $tx_db_exons > $bed_tx_annot"
   ]
  },
  {
   "attachments": {},
   "cell_type": "markdown",
   "metadata": {},
   "source": [
    "### 5. Find the best annotation for the 5' ends"
   ]
  },
  {
   "attachments": {},
   "cell_type": "markdown",
   "metadata": {},
   "source": [
    "First, annotate by the closest TSS, ambiguous annoations are in the format \"*{name of the gene}_{distance}\""
   ]
  },
  {
   "cell_type": "code",
   "execution_count": 15,
   "metadata": {},
   "outputs": [],
   "source": [
    "bed_best_tss = \"{}.byTSS.bed\".format(name)\n",
    "\n",
    "!$python $annot_script_1 -i $bed_tss_annot -a $annot  -o $bed_best_tss"
   ]
  },
  {
   "attachments": {},
   "cell_type": "markdown",
   "metadata": {},
   "source": [
    "Second, the ambiguous annotations will be re-annotated by the transcripts. If the site is still ambiguous, the will be annotated by \"*{name of the gene}_{distance}\" again."
   ]
  },
  {
   "cell_type": "code",
   "execution_count": 16,
   "metadata": {},
   "outputs": [],
   "source": [
    "bed_best_tss_tx = \"{}.byTSS.byTx.bed\".format(name)\n",
    "\n",
    "!$python $annot_script_2 -i $bed_best_tss -I $bed_tx_annot -a $annot -o $bed_best_tss_tx"
   ]
  },
  {
   "attachments": {},
   "cell_type": "markdown",
   "metadata": {},
   "source": [
    "### 6. Simple annotations for the base and TPM"
   ]
  },
  {
   "cell_type": "code",
   "execution_count": 17,
   "metadata": {},
   "outputs": [],
   "source": [
    "bed_with_base = \"{}.byTSS.byTx.base.bed\".format(name)\n",
    "bed_with_tpm = \"{}.byTSS.byTx.base.tpm.bed\".format(name)\n",
    "\n",
    "!$python $bed_annotate_base -f $ref_genome -F 0 -i $bed_best_tss_tx > $bed_with_base\n",
    "!$python $bed_annotate_tpm $bed_with_base > $bed_with_tpm"
   ]
  },
  {
   "attachments": {},
   "cell_type": "markdown",
   "metadata": {},
   "source": [
    "### 7. Last step, find out which one is high-confident"
   ]
  },
  {
   "cell_type": "code",
   "execution_count": 18,
   "metadata": {},
   "outputs": [
    {
     "name": "stdout",
     "output_type": "stream",
     "text": [
      "  0%|                                          | 3/6495 [00:00<09:35, 11.27it/s]/home/fox/Projects/CROWN-Seq_example/WT_run/../ReCappabble-seq_caller_ben_version_v2.py:71: RuntimeWarning: invalid value encountered in divide\n",
      "  zscores = (tpms - np.mean(tpms))/np.std(tpms)\n",
      "100%|█████████████████████████████████████| 6495/6495 [00:01<00:00, 6412.94it/s]\n"
     ]
    }
   ],
   "source": [
    "output_prefix = \"{}.called\".format(name)\n",
    "\n",
    "!$python $tss_filters -i $bed_with_tpm -o $output_prefix"
   ]
  },
  {
   "attachments": {},
   "cell_type": "markdown",
   "metadata": {},
   "source": [
    "Finally, there will be two outputs:\n",
    "\n",
    "The high-confident sites will be stored in:\n",
    "\n",
    "`output_prefix`.ben.passed.bed \n",
    "\n",
    "While the sites do not pass the filters will be\n",
    "\n",
    "`output_prefix`.ben.filtered_out.bed\n",
    "\n",
    "Both of these two files are important for further analysis."
   ]
  },
  {
   "attachments": {},
   "cell_type": "markdown",
   "metadata": {},
   "source": [
    "### 8. When and where am I"
   ]
  },
  {
   "cell_type": "code",
   "execution_count": 19,
   "metadata": {},
   "outputs": [
    {
     "name": "stdout",
     "output_type": "stream",
     "text": [
      "/home/fox/Projects/CROWN-Seq_example/WT_run\n",
      "total 251156\n",
      "-rw-rw-r-- 1 fox fox   765425 May 31 15:36 HEK_WT.bed\n",
      "-rw-rw-r-- 1 fox fox  1695512 May 31 15:36 HEK_WT.byTSS.bed\n",
      "-rw-rw-r-- 1 fox fox  1603519 May 31 15:37 HEK_WT.byTSS.byTx.base.bed\n",
      "-rw-rw-r-- 1 fox fox  2138272 May 31 15:37 HEK_WT.byTSS.byTx.base.tpm.bed\n",
      "-rw-rw-r-- 1 fox fox  1546621 May 31 15:37 HEK_WT.byTSS.byTx.bed\n",
      "-rw-rw-r-- 1 fox fox  2751484 May 31 15:37 HEK_WT.called.ben.filtered_out.bed\n",
      "-rw-rw-r-- 1 fox fox   753307 May 31 15:37 HEK_WT.called.ben.passed.bed\n",
      "-rw-rw-r-- 1 fox fox  2598124 May 31 15:36 HEK_WT.closest.tss.bed\n",
      "-rw-rw-r-- 1 fox fox  9730729 May 31 15:36 HEK_WT.closest.tx.bed\n",
      "-rw-rw-r-- 1 fox fox   765425 May 31 15:36 HEK_WT.sorted.bed\n",
      "-rw-rw-r-- 1 fox fox  8740663 May 31 15:35 hisat2_genome.bam\n",
      "-rw-rw-r-- 1 fox fox  7445418 May 31 15:35 hisat2_genome.multimappers.bam\n",
      "-rw-rw-r-- 1 fox fox  6657445 May 31 15:35 hisat2_genome.sorted.bam\n",
      "-rw-rw-r-- 1 fox fox  1687456 May 31 15:35 hisat2_genome.sorted.bam.bai\n",
      "-rw-rw-r-- 1 fox fox  4120985 May 31 15:35 hisat2_genome.sorted.umi.bam\n",
      "-rw-rw-r-- 1 fox fox  4121007 May 31 15:35 hisat2_genome.sorted.umi.sorted.bam\n",
      "-rw-rw-r-- 1 fox fox  1681728 May 31 15:35 hisat2_genome.sorted.umi.sorted.bam.bai\n",
      "-rw-rw-r-- 1 fox fox 42202608 May 31 15:35 read1.cutadapt.fastq\n",
      "-rw-rw-r-- 1 fox fox 40002377 May 31 15:35 read1.UMI.fastq\n",
      "-rw-rw-r-- 1 fox fox 18184179 May 31 15:35 read1.UMI.unmapped.fastq\n",
      "-rw-rw-r-- 1 fox fox 38230936 May 31 15:35 read2.cutadapt.fastq\n",
      "-rw-rw-r-- 1 fox fox 40831209 May 31 15:35 read2.UMI.fastq\n",
      "-rw-rw-r-- 1 fox fox 18867145 May 31 15:35 read2.UMI.unmapped.fastq\n",
      "-rw-rw-r-- 1 fox fox     3710 May 31 15:35 umi.logs\n"
     ]
    }
   ],
   "source": [
    "!pwd -P\n",
    "!ls -l"
   ]
  },
  {
   "cell_type": "code",
   "execution_count": 20,
   "metadata": {},
   "outputs": [
    {
     "name": "stdout",
     "output_type": "stream",
     "text": [
      "Finished: 05/31/23 15:37:17\n"
     ]
    }
   ],
   "source": [
    "now = datetime.now()\n",
    "current_time = now.strftime(\"%D %H:%M:%S\")\n",
    "print(\"Finished:\", current_time)"
   ]
  },
  {
   "attachments": {},
   "cell_type": "markdown",
   "metadata": {},
   "source": [
    "## Don't forget to save the Notebook."
   ]
  }
 ],
 "metadata": {
  "kernelspec": {
   "display_name": "Python 3 (ipykernel)",
   "language": "python",
   "name": "python3"
  },
  "language_info": {
   "codemirror_mode": {
    "name": "ipython",
    "version": 3
   },
   "file_extension": ".py",
   "mimetype": "text/x-python",
   "name": "python",
   "nbconvert_exporter": "python",
   "pygments_lexer": "ipython3",
   "version": "3.9.14"
  }
 },
 "nbformat": 4,
 "nbformat_minor": 2
}
