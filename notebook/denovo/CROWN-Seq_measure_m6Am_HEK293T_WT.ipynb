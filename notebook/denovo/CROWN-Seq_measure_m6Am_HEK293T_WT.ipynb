{
 "cells": [
  {
   "attachments": {},
   "cell_type": "markdown",
   "metadata": {},
   "source": [
    "## m6Am call from CROWN-Seq\n",
    "\n",
    "Jianheng Liu (Fox) @ Jaffrey Lab, May 31st, 2023\n",
    "\n",
    "Concat: jil4026@med.cornell.edu"
   ]
  },
  {
   "attachments": {},
   "cell_type": "markdown",
   "metadata": {},
   "source": [
    "**Usage:** Modify `Prepartion` section to fit your computer. Modify `Variable` section before each run.All outputs will be saved in the `workpath`. Logs will be saved in the notebook. Don't close the `Notebook` before it finished (keep the backend at least)!\n",
    "\n",
    "**Note 1:** In Jupyter notebook, `!` means using `bash` in the cell, and `$` means using python variables.\n",
    "\n",
    "**Note 2:** This panel notebook should be compatible with `Python 3`. But please use `Python 2` to run the analytic scripts.\n",
    "\n",
    "**Note 3:** I used Gencode v34 in the article for compatiblity. Here I use Ensembl release 104 for illustration. Newer annotations are normally better.\n",
    "\n",
    "**Note 5:** This notebook is for paired-end reads. If you are using single-end, switch to the scripts end with `_SE.py`. And don't forget to change the parameters."
   ]
  },
  {
   "attachments": {},
   "cell_type": "markdown",
   "metadata": {},
   "source": [
    "Important: We are still using the original folder for de novo TSS call. QC and alignment are skipped."
   ]
  },
  {
   "cell_type": "code",
   "execution_count": 1,
   "metadata": {},
   "outputs": [
    {
     "name": "stdout",
     "output_type": "stream",
     "text": [
      "Started: 05/31/23 16:12:50\n",
      "/home/fox/Projects/CROWN-Seq_example\n"
     ]
    }
   ],
   "source": [
    "# local time\n",
    "from datetime import datetime\n",
    "now = datetime.now()\n",
    "current_time = now.strftime(\"%D %H:%M:%S\")\n",
    "print(\"Started:\", current_time)\n",
    "\n",
    "# Show notebook directory\n",
    "!pwd -P"
   ]
  },
  {
   "attachments": {},
   "cell_type": "markdown",
   "metadata": {},
   "source": [
    "### 0. Variable here"
   ]
  },
  {
   "cell_type": "code",
   "execution_count": 2,
   "metadata": {},
   "outputs": [],
   "source": [
    "name = \"A549_WT\" # file name prefix\n",
    "folder = \"A549_run/\"\n",
    "path = \"./\" # output path: workpath=path/folder\n",
    "workpath = path + \"/\" + folder + \"/\"\n",
    "read1 = \"A549_rep1_example.R1.fastq.gz\" # fastq or fastq.gz\n",
    "read2 = \"A549_rep1_example.R2.fastq.gz\"\n",
    "site_list = \"./merge/CROWN_sites.txt\""
   ]
  },
  {
   "attachments": {},
   "cell_type": "markdown",
   "metadata": {},
   "source": [
    "### 1. Preparation"
   ]
  },
  {
   "cell_type": "code",
   "execution_count": 3,
   "metadata": {},
   "outputs": [],
   "source": [
    "ref_genome = \"/home/fox/Database/GLORI_index/GRCh38_r104/hisat2_index/Homo_sapiens.GRCh38.dna_sm.primary_assembly.fa\""
   ]
  },
  {
   "attachments": {},
   "cell_type": "markdown",
   "metadata": {},
   "source": [
    "**Software** (For python, use the fixed version)"
   ]
  },
  {
   "cell_type": "code",
   "execution_count": 4,
   "metadata": {},
   "outputs": [],
   "source": [
    "python = '/home/fox/Software/bin/python'\n",
    "bowtie2 = '/home/fox/Software/bin/python2'\n",
    "samtools = '/home/fox/Software/samtools/1.16/bin/samtools'\n",
    "cutadapt = '/home/fox/Software/bin/cutadapt'\n",
    "hisat2_path = '/home/fox/Software/hisat2/2.1.0/'\n",
    "umitools = '/home/fox/Software/bin/umi_tools'\n",
    "bedtools = '/home/fox/Software/bedtools/2.29.1/bedtools'"
   ]
  },
  {
   "attachments": {},
   "cell_type": "markdown",
   "metadata": {},
   "source": [
    "**Scripts**"
   ]
  },
  {
   "cell_type": "code",
   "execution_count": 5,
   "metadata": {},
   "outputs": [],
   "source": [
    "get_ACGU_counts = \"../fetch_caps_from_CROWN-seq_PE.py\"\n",
    "get_control_sites = \"../find_next_A_as_control.py\"\n",
    "get_control_ACGU_counts = \"../fetch_caps_from_CROWN-seq_control_PE.py\""
   ]
  },
  {
   "attachments": {},
   "cell_type": "markdown",
   "metadata": {},
   "source": [
    "**Create the workpath if not exist, then move to the workpath**"
   ]
  },
  {
   "cell_type": "code",
   "execution_count": 6,
   "metadata": {},
   "outputs": [],
   "source": [
    "import os\n",
    "if os.path.isdir(workpath) == False:\n",
    "    os.mkdir(workpath)\n",
    "os.chdir(workpath)"
   ]
  },
  {
   "attachments": {},
   "cell_type": "markdown",
   "metadata": {},
   "source": [
    "### 1. Get m6Am fractions from the BAM file"
   ]
  },
  {
   "cell_type": "code",
   "execution_count": 14,
   "metadata": {},
   "outputs": [],
   "source": [
    "output_file = \"{name}.CROWN.csv\".format(name=name)\n",
    "\n",
    "!$python $get_ACGU_counts -r $ref_genome -l $site_list -o $output_file -b hisat2_genome.sorted.umi.sorted.bam"
   ]
  },
  {
   "attachments": {},
   "cell_type": "markdown",
   "metadata": {},
   "source": [
    "### 2. Get downstream controls"
   ]
  },
  {
   "cell_type": "code",
   "execution_count": null,
   "metadata": {},
   "outputs": [],
   "source": [
    "controls_list = \"{name}.control\".format(name=name)\n",
    "controls_pairs = \"{name}.control.pairs\".format(name=name)\n",
    "output_controls = \"{name}.CROWN.control.csv\"\n",
    "\n",
    "# get control sites\n",
    "!$python $get_control_sites $site_list $ref_genome $controls_list $controls_pairs\n",
    "\n",
    "# get control data\n",
    "\n",
    "!$python $get_control_ACGU_counts -r $ref_genome -l $controls_pairs -o $output_controls -b hisat2_genome.sorted.umi.sorted.bam"
   ]
  },
  {
   "attachments": {},
   "cell_type": "markdown",
   "metadata": {},
   "source": [
    "### 3. When and where am I"
   ]
  },
  {
   "cell_type": "code",
   "execution_count": 19,
   "metadata": {},
   "outputs": [
    {
     "name": "stdout",
     "output_type": "stream",
     "text": [
      "/home/fox/Projects/CROWN-Seq_example/A549_run\n",
      "total 334420\n",
      "-rw-rw-r-- 1 fox fox   999050 May 31 16:14 A549_WT.bed\n",
      "-rw-rw-r-- 1 fox fox  2224094 May 31 16:14 A549_WT.byTSS.bed\n",
      "-rw-rw-r-- 1 fox fox  2082458 May 31 16:15 A549_WT.byTSS.byTx.base.bed\n",
      "-rw-rw-r-- 1 fox fox  2753453 May 31 16:15 A549_WT.byTSS.byTx.base.tpm.bed\n",
      "-rw-rw-r-- 1 fox fox  2008158 May 31 16:15 A549_WT.byTSS.byTx.bed\n",
      "-rw-rw-r-- 1 fox fox  3657061 May 31 16:15 A549_WT.called.ben.filtered_out.bed\n",
      "-rw-rw-r-- 1 fox fox   937726 May 31 16:15 A549_WT.called.ben.passed.bed\n",
      "-rw-rw-r-- 1 fox fox  3366972 May 31 16:14 A549_WT.closest.tss.bed\n",
      "-rw-rw-r-- 1 fox fox 13057734 May 31 16:14 A549_WT.closest.tx.bed\n",
      "-rw-rw-r-- 1 fox fox   999050 May 31 16:14 A549_WT.sorted.bed\n",
      "-rw-rw-r-- 1 fox fox 13808418 May 31 16:13 hisat2_genome.bam\n",
      "-rw-rw-r-- 1 fox fox  7987967 May 31 16:13 hisat2_genome.multimappers.bam\n",
      "-rw-rw-r-- 1 fox fox 10352027 May 31 16:13 hisat2_genome.sorted.bam\n",
      "-rw-rw-r-- 1 fox fox  1723552 May 31 16:13 hisat2_genome.sorted.bam.bai\n",
      "-rw-rw-r-- 1 fox fox  6086919 May 31 16:13 hisat2_genome.sorted.umi.bam\n",
      "-rw-rw-r-- 1 fox fox  6086941 May 31 16:13 hisat2_genome.sorted.umi.sorted.bam\n",
      "-rw-rw-r-- 1 fox fox  1719264 May 31 16:13 hisat2_genome.sorted.umi.sorted.bam.bai\n",
      "-rw-rw-r-- 1 fox fox 57615802 May 31 16:12 read1.cutadapt.fastq\n",
      "-rw-rw-r-- 1 fox fox 54601813 May 31 16:13 read1.UMI.fastq\n",
      "-rw-rw-r-- 1 fox fox 20552119 May 31 16:13 read1.UMI.unmapped.fastq\n",
      "-rw-rw-r-- 1 fox fox 52321420 May 31 16:12 read2.cutadapt.fastq\n",
      "-rw-rw-r-- 1 fox fox 55883407 May 31 16:13 read2.UMI.fastq\n",
      "-rw-rw-r-- 1 fox fox 21553181 May 31 16:13 read2.UMI.unmapped.fastq\n",
      "-rw-rw-r-- 1 fox fox     3766 May 31 16:13 umi.logs\n"
     ]
    }
   ],
   "source": [
    "!pwd -P\n",
    "!ls -l"
   ]
  },
  {
   "cell_type": "code",
   "execution_count": 20,
   "metadata": {},
   "outputs": [
    {
     "name": "stdout",
     "output_type": "stream",
     "text": [
      "Finished: 05/31/23 16:15:44\n"
     ]
    }
   ],
   "source": [
    "now = datetime.now()\n",
    "current_time = now.strftime(\"%D %H:%M:%S\")\n",
    "print(\"Finished:\", current_time)"
   ]
  },
  {
   "attachments": {},
   "cell_type": "markdown",
   "metadata": {},
   "source": [
    "## Don't forget to save the Notebook."
   ]
  }
 ],
 "metadata": {
  "kernelspec": {
   "display_name": "Python 3 (ipykernel)",
   "language": "python",
   "name": "python3"
  },
  "language_info": {
   "codemirror_mode": {
    "name": "ipython",
    "version": 3
   },
   "file_extension": ".py",
   "mimetype": "text/x-python",
   "name": "python",
   "nbconvert_exporter": "python",
   "pygments_lexer": "ipython3",
   "version": "3.9.14"
  }
 },
 "nbformat": 4,
 "nbformat_minor": 2
}
